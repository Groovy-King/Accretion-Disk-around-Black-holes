{
 "cells": [
  {
   "cell_type": "code",
   "execution_count": 51,
   "metadata": {},
   "outputs": [],
   "source": [
    "import numpy as np\n",
    "import matplotlib.pyplot as plt\n",
    "import scipy as sp\n",
    "import sympy as smp\n",
    "\n",
    "from scipy.optimize import fsolve, leastsq\n",
    "from scipy.integrate import odeint, solve_ivp\n",
    "from Derivative_Equations import dvdr, dPdr, drhodr, dLdr"
   ]
  },
  {
   "cell_type": "code",
   "execution_count": 52,
   "metadata": {},
   "outputs": [],
   "source": [
    "r, F, h, dhdr, rho, drhodr, v, dvdr = smp.symbols('r, F, h, dhdr, rho, drhodr, v, dvdr')\n",
    "P, dPdr, L, dLdr, Br, dBrdr, BPhi, dBPhidr = smp.symbols('P, dPdr, L, dLdr, Br, dBrdr, BPhi, dBPhidr')\n",
    "G, alpha, fvis, fm, dFdr = smp.symbols('G, alpha, fvis, fm, dFdr')"
   ]
  },
  {
   "cell_type": "code",
   "execution_count": 53,
   "metadata": {},
   "outputs": [],
   "source": [
    "eqn1 = Br + r*dBrdr\n",
    "eqn2 = dvdr*BPhi + v*dBPhidr + Br*L/r**2 - dBrdr*L/r - Br*dLdr/r\n",
    "eqn3 = rho*h*v + r*drhodr*h*v + r*rho*dhdr*v + r*rho*h*dvdr\n",
    "eqn4 = v*dvdr + dPdr/rho - L**2/r**3 - (Br*dBrdr - BPhi**2/r)/(4*smp.pi*rho) + F\n",
    "eqn5 = (2*alpha*(P + rho*v**2) + r*alpha*(dPdr + drhodr*v**2 + 2*v*rho*dvdr)) / rho + (Br*dBrdr + Br*BPhi/r) / (4*smp.pi*rho) - v*dLdr\n",
    "eqn6 = v*(dPdr - G*P*drhodr/rho)/(G - 1) - alpha*fvis*(P + rho*v**2)*L/r**2 + 3*fm*(Br**2 + BPhi**2) * v/(16*smp.pi*r) \n",
    "eqn7 = h*(1/r + (dPdr)/(P) - dFdr/F - drhodr/rho) / 2 - dhdr"
   ]
  },
  {
   "cell_type": "code",
   "execution_count": 54,
   "metadata": {},
   "outputs": [],
   "source": [
    "eqns = [eqn1, eqn2, eqn3, eqn4, eqn5, eqn6, eqn7]\n",
    "sol = smp.linsolve(eqns, [dvdr, dPdr, drhodr, dLdr, dBrdr, dBPhidr, dhdr])"
   ]
  },
  {
   "cell_type": "code",
   "execution_count": 55,
   "metadata": {},
   "outputs": [
    {
     "data": {
      "text/latex": [
       "$\\displaystyle \\left\\{\\left( \\frac{3 BPhi^{2} F G fm r^{2} v - 4 BPhi^{2} F G r^{2} v - 3 BPhi^{2} F fm r^{2} v - 4 BPhi^{2} F r^{2} v + 3 Br^{2} F G fm r^{2} v - 4 Br^{2} F G r^{2} v - 3 Br^{2} F fm r^{2} v - 4 Br^{2} F r^{2} v - 16 \\pi F^{2} G r^{3} \\rho v - 16 \\pi F^{2} r^{3} \\rho v + 16 \\pi F G L^{2} \\rho v - 16 \\pi F G L P \\alpha fvis r - 16 \\pi F G L \\alpha fvis r \\rho v^{2} + 48 \\pi F G P r^{2} v + 16 \\pi F L^{2} \\rho v + 16 \\pi F L P \\alpha fvis r + 16 \\pi F L \\alpha fvis r \\rho v^{2} - 16 \\pi G P dFdr r^{3} v}{- 32 \\pi F G P r^{3} + 16 \\pi F G r^{3} \\rho v^{2} + 16 \\pi F r^{3} \\rho v^{2}}, \\  \\frac{8 BPhi^{2} F G P r^{2} - 3 BPhi^{2} F G fm r^{2} \\rho v^{2} + 3 BPhi^{2} F fm r^{2} \\rho v^{2} + 8 Br^{2} F G P r^{2} - 3 Br^{2} F G fm r^{2} \\rho v^{2} + 3 Br^{2} F fm r^{2} \\rho v^{2} + 32 \\pi F^{2} G P r^{3} \\rho - 32 \\pi F G L^{2} P \\rho + 16 \\pi F G L P \\alpha fvis r \\rho v + 16 \\pi F G L \\alpha fvis r \\rho^{2} v^{3} - 48 \\pi F G P r^{2} \\rho v^{2} - 16 \\pi F L P \\alpha fvis r \\rho v - 16 \\pi F L \\alpha fvis r \\rho^{2} v^{3} + 16 \\pi G P dFdr r^{3} \\rho v^{2}}{- 32 \\pi F G P r^{3} + 16 \\pi F G r^{3} \\rho v^{2} + 16 \\pi F r^{3} \\rho v^{2}}, \\  \\frac{- 6 BPhi^{2} F G P fm r^{2} \\rho v + 3 BPhi^{2} F G fm r^{2} \\rho^{2} v^{3} + 6 BPhi^{2} F P fm r^{2} \\rho v + 8 BPhi^{2} F P r^{2} \\rho v - 3 BPhi^{2} F fm r^{2} \\rho^{2} v^{3} - 6 Br^{2} F G P fm r^{2} \\rho v + 3 Br^{2} F G fm r^{2} \\rho^{2} v^{3} + 6 Br^{2} F P fm r^{2} \\rho v + 8 Br^{2} F P r^{2} \\rho v - 3 Br^{2} F fm r^{2} \\rho^{2} v^{3} + 32 \\pi F^{2} P r^{3} \\rho^{2} v + 32 \\pi F G L P^{2} \\alpha fvis r \\rho + 16 \\pi F G L P \\alpha fvis r \\rho^{2} v^{2} - 16 \\pi F G L \\alpha fvis r \\rho^{3} v^{4} - 32 \\pi F L^{2} P \\rho^{2} v - 32 \\pi F L P^{2} \\alpha fvis r \\rho - 16 \\pi F L P \\alpha fvis r \\rho^{2} v^{2} + 16 \\pi F L \\alpha fvis r \\rho^{3} v^{4} - 48 \\pi F P r^{2} \\rho^{2} v^{3} + 16 \\pi P dFdr r^{3} \\rho^{2} v^{3}}{- 32 \\pi F G P^{2} r^{3} v + 16 \\pi F G P r^{3} \\rho v^{3} + 16 \\pi F P r^{3} \\rho v^{3}}, \\  \\frac{8 BPhi^{2} F G P^{2} \\alpha r^{2} - 3 BPhi^{2} F G P \\alpha fm r^{2} \\rho v^{2} - 8 BPhi^{2} F G P \\alpha r^{2} \\rho v^{2} + 3 BPhi^{2} F G \\alpha fm r^{2} \\rho^{2} v^{4} + 3 BPhi^{2} F P \\alpha fm r^{2} \\rho v^{2} - 3 BPhi^{2} F \\alpha fm r^{2} \\rho^{2} v^{4} - 8 BPhi Br F G P^{2} r + 4 BPhi Br F G P r \\rho v^{2} + 4 BPhi Br F P r \\rho v^{2} + 8 Br^{2} F G P^{2} \\alpha r^{2} + 8 Br^{2} F G P^{2} r - 3 Br^{2} F G P \\alpha fm r^{2} \\rho v^{2} - 8 Br^{2} F G P \\alpha r^{2} \\rho v^{2} - 4 Br^{2} F G P r \\rho v^{2} + 3 Br^{2} F G \\alpha fm r^{2} \\rho^{2} v^{4} + 3 Br^{2} F P \\alpha fm r^{2} \\rho v^{2} - 4 Br^{2} F P r \\rho v^{2} - 3 Br^{2} F \\alpha fm r^{2} \\rho^{2} v^{4} + 32 \\pi F^{2} G P^{2} \\alpha r^{3} \\rho - 32 \\pi F^{2} G P \\alpha r^{3} \\rho^{2} v^{2} - 32 \\pi F G L^{2} P^{2} \\alpha \\rho + 32 \\pi F G L^{2} P \\alpha \\rho^{2} v^{2} + 16 \\pi F G L P^{2} \\alpha^{2} fvis r \\rho v - 16 \\pi F G L \\alpha^{2} fvis r \\rho^{3} v^{5} - 64 \\pi F G P^{3} \\alpha r^{2} + 16 \\pi F G P^{2} \\alpha r^{2} \\rho v^{2} + 32 \\pi F G P \\alpha r^{2} \\rho^{2} v^{4} - 16 \\pi F L P^{2} \\alpha^{2} fvis r \\rho v + 16 \\pi F L \\alpha^{2} fvis r \\rho^{3} v^{5} + 32 \\pi F P^{2} \\alpha r^{2} \\rho v^{2} - 16 \\pi F P \\alpha r^{2} \\rho^{2} v^{4} - 16 \\pi G P^{2} \\alpha dFdr r^{3} \\rho v^{2} + 16 \\pi P \\alpha dFdr r^{3} \\rho^{2} v^{4}}{- 32 \\pi F G P^{2} r^{2} \\rho v + 16 \\pi F G P r^{2} \\rho^{2} v^{3} + 16 \\pi F P r^{2} \\rho^{2} v^{3}}, \\  - \\frac{Br}{r}, \\  \\frac{- 3 BPhi^{3} F G P fm r^{2} \\rho v^{2} + 4 BPhi^{3} F G P r^{2} \\rho v^{2} + 3 BPhi^{3} F P fm r^{2} \\rho v^{2} + 4 BPhi^{3} F P r^{2} \\rho v^{2} + 8 BPhi^{2} Br F G P^{2} \\alpha r^{2} - 3 BPhi^{2} Br F G P \\alpha fm r^{2} \\rho v^{2} - 8 BPhi^{2} Br F G P \\alpha r^{2} \\rho v^{2} + 3 BPhi^{2} Br F G \\alpha fm r^{2} \\rho^{2} v^{4} + 3 BPhi^{2} Br F P \\alpha fm r^{2} \\rho v^{2} - 3 BPhi^{2} Br F \\alpha fm r^{2} \\rho^{2} v^{4} - 8 BPhi Br^{2} F G P^{2} r - 3 BPhi Br^{2} F G P fm r^{2} \\rho v^{2} + 4 BPhi Br^{2} F G P r^{2} \\rho v^{2} + 4 BPhi Br^{2} F G P r \\rho v^{2} + 3 BPhi Br^{2} F P fm r^{2} \\rho v^{2} + 4 BPhi Br^{2} F P r^{2} \\rho v^{2} + 4 BPhi Br^{2} F P r \\rho v^{2} + 16 \\pi BPhi F^{2} G P r^{3} \\rho^{2} v^{2} + 16 \\pi BPhi F^{2} P r^{3} \\rho^{2} v^{2} - 16 \\pi BPhi F G L^{2} P \\rho^{2} v^{2} + 16 \\pi BPhi F G L P^{2} \\alpha fvis r \\rho v + 16 \\pi BPhi F G L P \\alpha fvis r \\rho^{2} v^{3} - 48 \\pi BPhi F G P^{2} r^{2} \\rho v^{2} - 16 \\pi BPhi F L^{2} P \\rho^{2} v^{2} - 16 \\pi BPhi F L P^{2} \\alpha fvis r \\rho v - 16 \\pi BPhi F L P \\alpha fvis r \\rho^{2} v^{3} + 16 \\pi BPhi G P^{2} dFdr r^{3} \\rho v^{2} + 8 Br^{3} F G P^{2} \\alpha r^{2} + 8 Br^{3} F G P^{2} r - 3 Br^{3} F G P \\alpha fm r^{2} \\rho v^{2} - 8 Br^{3} F G P \\alpha r^{2} \\rho v^{2} - 4 Br^{3} F G P r \\rho v^{2} + 3 Br^{3} F G \\alpha fm r^{2} \\rho^{2} v^{4} + 3 Br^{3} F P \\alpha fm r^{2} \\rho v^{2} - 4 Br^{3} F P r \\rho v^{2} - 3 Br^{3} F \\alpha fm r^{2} \\rho^{2} v^{4} + 32 \\pi Br F^{2} G P^{2} \\alpha r^{3} \\rho - 32 \\pi Br F^{2} G P \\alpha r^{3} \\rho^{2} v^{2} - 32 \\pi Br F G L^{2} P^{2} \\alpha \\rho + 32 \\pi Br F G L^{2} P \\alpha \\rho^{2} v^{2} + 16 \\pi Br F G L P^{2} \\alpha^{2} fvis r \\rho v + 64 \\pi Br F G L P^{2} r \\rho v - 32 \\pi Br F G L P r \\rho^{2} v^{3} - 16 \\pi Br F G L \\alpha^{2} fvis r \\rho^{3} v^{5} - 64 \\pi Br F G P^{3} \\alpha r^{2} + 16 \\pi Br F G P^{2} \\alpha r^{2} \\rho v^{2} + 32 \\pi Br F G P \\alpha r^{2} \\rho^{2} v^{4} - 16 \\pi Br F L P^{2} \\alpha^{2} fvis r \\rho v - 32 \\pi Br F L P r \\rho^{2} v^{3} + 16 \\pi Br F L \\alpha^{2} fvis r \\rho^{3} v^{5} + 32 \\pi Br F P^{2} \\alpha r^{2} \\rho v^{2} - 16 \\pi Br F P \\alpha r^{2} \\rho^{2} v^{4} - 16 \\pi Br G P^{2} \\alpha dFdr r^{3} \\rho v^{2} + 16 \\pi Br P \\alpha dFdr r^{3} \\rho^{2} v^{4}}{- 32 \\pi F G P^{2} r^{3} \\rho v^{2} + 16 \\pi F G P r^{3} \\rho^{2} v^{4} + 16 \\pi F P r^{3} \\rho^{2} v^{4}}, \\  \\frac{3 BPhi^{2} F G P fm h r^{2} v + 4 BPhi^{2} F G P h r^{2} v - 3 BPhi^{2} F G fm h r^{2} \\rho v^{3} - 3 BPhi^{2} F P fm h r^{2} v - 4 BPhi^{2} F P h r^{2} v + 3 BPhi^{2} F fm h r^{2} \\rho v^{3} + 3 Br^{2} F G P fm h r^{2} v + 4 Br^{2} F G P h r^{2} v - 3 Br^{2} F G fm h r^{2} \\rho v^{3} - 3 Br^{2} F P fm h r^{2} v - 4 Br^{2} F P h r^{2} v + 3 Br^{2} F fm h r^{2} \\rho v^{3} + 16 \\pi F^{2} G P h r^{3} \\rho v - 16 \\pi F^{2} P h r^{3} \\rho v - 16 \\pi F G L^{2} P h \\rho v - 16 \\pi F G L P^{2} \\alpha fvis h r + 16 \\pi F G L \\alpha fvis h r \\rho^{2} v^{4} - 16 \\pi F G P^{2} h r^{2} v - 16 \\pi F G P h r^{2} \\rho v^{3} + 16 \\pi F L^{2} P h \\rho v + 16 \\pi F L P^{2} \\alpha fvis h r - 16 \\pi F L \\alpha fvis h r \\rho^{2} v^{4} + 32 \\pi F P h r^{2} \\rho v^{3} + 16 \\pi G P^{2} dFdr h r^{3} v - 16 \\pi P dFdr h r^{3} \\rho v^{3}}{- 32 \\pi F G P^{2} r^{3} v + 16 \\pi F G P r^{3} \\rho v^{3} + 16 \\pi F P r^{3} \\rho v^{3}}\\right)\\right\\}$"
      ],
      "text/plain": [
       "{((3*BPhi**2*F*G*fm*r**2*v - 4*BPhi**2*F*G*r**2*v - 3*BPhi**2*F*fm*r**2*v - 4*BPhi**2*F*r**2*v + 3*Br**2*F*G*fm*r**2*v - 4*Br**2*F*G*r**2*v - 3*Br**2*F*fm*r**2*v - 4*Br**2*F*r**2*v - 16*pi*F**2*G*r**3*rho*v - 16*pi*F**2*r**3*rho*v + 16*pi*F*G*L**2*rho*v - 16*pi*F*G*L*P*alpha*fvis*r - 16*pi*F*G*L*alpha*fvis*r*rho*v**2 + 48*pi*F*G*P*r**2*v + 16*pi*F*L**2*rho*v + 16*pi*F*L*P*alpha*fvis*r + 16*pi*F*L*alpha*fvis*r*rho*v**2 - 16*pi*G*P*dFdr*r**3*v)/(-32*pi*F*G*P*r**3 + 16*pi*F*G*r**3*rho*v**2 + 16*pi*F*r**3*rho*v**2), (8*BPhi**2*F*G*P*r**2 - 3*BPhi**2*F*G*fm*r**2*rho*v**2 + 3*BPhi**2*F*fm*r**2*rho*v**2 + 8*Br**2*F*G*P*r**2 - 3*Br**2*F*G*fm*r**2*rho*v**2 + 3*Br**2*F*fm*r**2*rho*v**2 + 32*pi*F**2*G*P*r**3*rho - 32*pi*F*G*L**2*P*rho + 16*pi*F*G*L*P*alpha*fvis*r*rho*v + 16*pi*F*G*L*alpha*fvis*r*rho**2*v**3 - 48*pi*F*G*P*r**2*rho*v**2 - 16*pi*F*L*P*alpha*fvis*r*rho*v - 16*pi*F*L*alpha*fvis*r*rho**2*v**3 + 16*pi*G*P*dFdr*r**3*rho*v**2)/(-32*pi*F*G*P*r**3 + 16*pi*F*G*r**3*rho*v**2 + 16*pi*F*r**3*rho*v**2), (-6*BPhi**2*F*G*P*fm*r**2*rho*v + 3*BPhi**2*F*G*fm*r**2*rho**2*v**3 + 6*BPhi**2*F*P*fm*r**2*rho*v + 8*BPhi**2*F*P*r**2*rho*v - 3*BPhi**2*F*fm*r**2*rho**2*v**3 - 6*Br**2*F*G*P*fm*r**2*rho*v + 3*Br**2*F*G*fm*r**2*rho**2*v**3 + 6*Br**2*F*P*fm*r**2*rho*v + 8*Br**2*F*P*r**2*rho*v - 3*Br**2*F*fm*r**2*rho**2*v**3 + 32*pi*F**2*P*r**3*rho**2*v + 32*pi*F*G*L*P**2*alpha*fvis*r*rho + 16*pi*F*G*L*P*alpha*fvis*r*rho**2*v**2 - 16*pi*F*G*L*alpha*fvis*r*rho**3*v**4 - 32*pi*F*L**2*P*rho**2*v - 32*pi*F*L*P**2*alpha*fvis*r*rho - 16*pi*F*L*P*alpha*fvis*r*rho**2*v**2 + 16*pi*F*L*alpha*fvis*r*rho**3*v**4 - 48*pi*F*P*r**2*rho**2*v**3 + 16*pi*P*dFdr*r**3*rho**2*v**3)/(-32*pi*F*G*P**2*r**3*v + 16*pi*F*G*P*r**3*rho*v**3 + 16*pi*F*P*r**3*rho*v**3), (8*BPhi**2*F*G*P**2*alpha*r**2 - 3*BPhi**2*F*G*P*alpha*fm*r**2*rho*v**2 - 8*BPhi**2*F*G*P*alpha*r**2*rho*v**2 + 3*BPhi**2*F*G*alpha*fm*r**2*rho**2*v**4 + 3*BPhi**2*F*P*alpha*fm*r**2*rho*v**2 - 3*BPhi**2*F*alpha*fm*r**2*rho**2*v**4 - 8*BPhi*Br*F*G*P**2*r + 4*BPhi*Br*F*G*P*r*rho*v**2 + 4*BPhi*Br*F*P*r*rho*v**2 + 8*Br**2*F*G*P**2*alpha*r**2 + 8*Br**2*F*G*P**2*r - 3*Br**2*F*G*P*alpha*fm*r**2*rho*v**2 - 8*Br**2*F*G*P*alpha*r**2*rho*v**2 - 4*Br**2*F*G*P*r*rho*v**2 + 3*Br**2*F*G*alpha*fm*r**2*rho**2*v**4 + 3*Br**2*F*P*alpha*fm*r**2*rho*v**2 - 4*Br**2*F*P*r*rho*v**2 - 3*Br**2*F*alpha*fm*r**2*rho**2*v**4 + 32*pi*F**2*G*P**2*alpha*r**3*rho - 32*pi*F**2*G*P*alpha*r**3*rho**2*v**2 - 32*pi*F*G*L**2*P**2*alpha*rho + 32*pi*F*G*L**2*P*alpha*rho**2*v**2 + 16*pi*F*G*L*P**2*alpha**2*fvis*r*rho*v - 16*pi*F*G*L*alpha**2*fvis*r*rho**3*v**5 - 64*pi*F*G*P**3*alpha*r**2 + 16*pi*F*G*P**2*alpha*r**2*rho*v**2 + 32*pi*F*G*P*alpha*r**2*rho**2*v**4 - 16*pi*F*L*P**2*alpha**2*fvis*r*rho*v + 16*pi*F*L*alpha**2*fvis*r*rho**3*v**5 + 32*pi*F*P**2*alpha*r**2*rho*v**2 - 16*pi*F*P*alpha*r**2*rho**2*v**4 - 16*pi*G*P**2*alpha*dFdr*r**3*rho*v**2 + 16*pi*P*alpha*dFdr*r**3*rho**2*v**4)/(-32*pi*F*G*P**2*r**2*rho*v + 16*pi*F*G*P*r**2*rho**2*v**3 + 16*pi*F*P*r**2*rho**2*v**3), -Br/r, (-3*BPhi**3*F*G*P*fm*r**2*rho*v**2 + 4*BPhi**3*F*G*P*r**2*rho*v**2 + 3*BPhi**3*F*P*fm*r**2*rho*v**2 + 4*BPhi**3*F*P*r**2*rho*v**2 + 8*BPhi**2*Br*F*G*P**2*alpha*r**2 - 3*BPhi**2*Br*F*G*P*alpha*fm*r**2*rho*v**2 - 8*BPhi**2*Br*F*G*P*alpha*r**2*rho*v**2 + 3*BPhi**2*Br*F*G*alpha*fm*r**2*rho**2*v**4 + 3*BPhi**2*Br*F*P*alpha*fm*r**2*rho*v**2 - 3*BPhi**2*Br*F*alpha*fm*r**2*rho**2*v**4 - 8*BPhi*Br**2*F*G*P**2*r - 3*BPhi*Br**2*F*G*P*fm*r**2*rho*v**2 + 4*BPhi*Br**2*F*G*P*r**2*rho*v**2 + 4*BPhi*Br**2*F*G*P*r*rho*v**2 + 3*BPhi*Br**2*F*P*fm*r**2*rho*v**2 + 4*BPhi*Br**2*F*P*r**2*rho*v**2 + 4*BPhi*Br**2*F*P*r*rho*v**2 + 16*pi*BPhi*F**2*G*P*r**3*rho**2*v**2 + 16*pi*BPhi*F**2*P*r**3*rho**2*v**2 - 16*pi*BPhi*F*G*L**2*P*rho**2*v**2 + 16*pi*BPhi*F*G*L*P**2*alpha*fvis*r*rho*v + 16*pi*BPhi*F*G*L*P*alpha*fvis*r*rho**2*v**3 - 48*pi*BPhi*F*G*P**2*r**2*rho*v**2 - 16*pi*BPhi*F*L**2*P*rho**2*v**2 - 16*pi*BPhi*F*L*P**2*alpha*fvis*r*rho*v - 16*pi*BPhi*F*L*P*alpha*fvis*r*rho**2*v**3 + 16*pi*BPhi*G*P**2*dFdr*r**3*rho*v**2 + 8*Br**3*F*G*P**2*alpha*r**2 + 8*Br**3*F*G*P**2*r - 3*Br**3*F*G*P*alpha*fm*r**2*rho*v**2 - 8*Br**3*F*G*P*alpha*r**2*rho*v**2 - 4*Br**3*F*G*P*r*rho*v**2 + 3*Br**3*F*G*alpha*fm*r**2*rho**2*v**4 + 3*Br**3*F*P*alpha*fm*r**2*rho*v**2 - 4*Br**3*F*P*r*rho*v**2 - 3*Br**3*F*alpha*fm*r**2*rho**2*v**4 + 32*pi*Br*F**2*G*P**2*alpha*r**3*rho - 32*pi*Br*F**2*G*P*alpha*r**3*rho**2*v**2 - 32*pi*Br*F*G*L**2*P**2*alpha*rho + 32*pi*Br*F*G*L**2*P*alpha*rho**2*v**2 + 16*pi*Br*F*G*L*P**2*alpha**2*fvis*r*rho*v + 64*pi*Br*F*G*L*P**2*r*rho*v - 32*pi*Br*F*G*L*P*r*rho**2*v**3 - 16*pi*Br*F*G*L*alpha**2*fvis*r*rho**3*v**5 - 64*pi*Br*F*G*P**3*alpha*r**2 + 16*pi*Br*F*G*P**2*alpha*r**2*rho*v**2 + 32*pi*Br*F*G*P*alpha*r**2*rho**2*v**4 - 16*pi*Br*F*L*P**2*alpha**2*fvis*r*rho*v - 32*pi*Br*F*L*P*r*rho**2*v**3 + 16*pi*Br*F*L*alpha**2*fvis*r*rho**3*v**5 + 32*pi*Br*F*P**2*alpha*r**2*rho*v**2 - 16*pi*Br*F*P*alpha*r**2*rho**2*v**4 - 16*pi*Br*G*P**2*alpha*dFdr*r**3*rho*v**2 + 16*pi*Br*P*alpha*dFdr*r**3*rho**2*v**4)/(-32*pi*F*G*P**2*r**3*rho*v**2 + 16*pi*F*G*P*r**3*rho**2*v**4 + 16*pi*F*P*r**3*rho**2*v**4), (3*BPhi**2*F*G*P*fm*h*r**2*v + 4*BPhi**2*F*G*P*h*r**2*v - 3*BPhi**2*F*G*fm*h*r**2*rho*v**3 - 3*BPhi**2*F*P*fm*h*r**2*v - 4*BPhi**2*F*P*h*r**2*v + 3*BPhi**2*F*fm*h*r**2*rho*v**3 + 3*Br**2*F*G*P*fm*h*r**2*v + 4*Br**2*F*G*P*h*r**2*v - 3*Br**2*F*G*fm*h*r**2*rho*v**3 - 3*Br**2*F*P*fm*h*r**2*v - 4*Br**2*F*P*h*r**2*v + 3*Br**2*F*fm*h*r**2*rho*v**3 + 16*pi*F**2*G*P*h*r**3*rho*v - 16*pi*F**2*P*h*r**3*rho*v - 16*pi*F*G*L**2*P*h*rho*v - 16*pi*F*G*L*P**2*alpha*fvis*h*r + 16*pi*F*G*L*alpha*fvis*h*r*rho**2*v**4 - 16*pi*F*G*P**2*h*r**2*v - 16*pi*F*G*P*h*r**2*rho*v**3 + 16*pi*F*L**2*P*h*rho*v + 16*pi*F*L*P**2*alpha*fvis*h*r - 16*pi*F*L*alpha*fvis*h*r*rho**2*v**4 + 32*pi*F*P*h*r**2*rho*v**3 + 16*pi*G*P**2*dFdr*h*r**3*v - 16*pi*P*dFdr*h*r**3*rho*v**3)/(-32*pi*F*G*P**2*r**3*v + 16*pi*F*G*P*r**3*rho*v**3 + 16*pi*F*P*r**3*rho*v**3))}"
      ]
     },
     "execution_count": 55,
     "metadata": {},
     "output_type": "execute_result"
    }
   ],
   "source": [
    "sol"
   ]
  },
  {
   "cell_type": "code",
   "execution_count": 56,
   "metadata": {},
   "outputs": [
    {
     "data": {
      "text/latex": [
       "$\\displaystyle \\left\\{\\left( \\frac{3 BPhi^{2} F G fm r^{2} v - 4 BPhi^{2} F G r^{2} v - 3 BPhi^{2} F fm r^{2} v - 4 BPhi^{2} F r^{2} v + 3 Br^{2} F G fm r^{2} v - 4 Br^{2} F G r^{2} v - 3 Br^{2} F fm r^{2} v - 4 Br^{2} F r^{2} v - 16 \\pi F^{2} G r^{3} \\rho v - 16 \\pi F^{2} r^{3} \\rho v + 16 \\pi F G L^{2} \\rho v - 16 \\pi F G L P \\alpha fvis r - 16 \\pi F G L \\alpha fvis r \\rho v^{2} + 48 \\pi F G P r^{2} v + 16 \\pi F L^{2} \\rho v + 16 \\pi F L P \\alpha fvis r + 16 \\pi F L \\alpha fvis r \\rho v^{2} - 16 \\pi G P dFdr r^{3} v}{- 32 \\pi F G P r^{3} + 16 \\pi F G r^{3} \\rho v^{2} + 16 \\pi F r^{3} \\rho v^{2}}, \\  \\frac{8 BPhi^{2} F G P r^{2} - 3 BPhi^{2} F G fm r^{2} \\rho v^{2} + 3 BPhi^{2} F fm r^{2} \\rho v^{2} + 8 Br^{2} F G P r^{2} - 3 Br^{2} F G fm r^{2} \\rho v^{2} + 3 Br^{2} F fm r^{2} \\rho v^{2} + 32 \\pi F^{2} G P r^{3} \\rho - 32 \\pi F G L^{2} P \\rho + 16 \\pi F G L P \\alpha fvis r \\rho v + 16 \\pi F G L \\alpha fvis r \\rho^{2} v^{3} - 48 \\pi F G P r^{2} \\rho v^{2} - 16 \\pi F L P \\alpha fvis r \\rho v - 16 \\pi F L \\alpha fvis r \\rho^{2} v^{3} + 16 \\pi G P dFdr r^{3} \\rho v^{2}}{- 32 \\pi F G P r^{3} + 16 \\pi F G r^{3} \\rho v^{2} + 16 \\pi F r^{3} \\rho v^{2}}, \\  \\frac{- 6 BPhi^{2} F G P fm r^{2} \\rho v + 3 BPhi^{2} F G fm r^{2} \\rho^{2} v^{3} + 6 BPhi^{2} F P fm r^{2} \\rho v + 8 BPhi^{2} F P r^{2} \\rho v - 3 BPhi^{2} F fm r^{2} \\rho^{2} v^{3} - 6 Br^{2} F G P fm r^{2} \\rho v + 3 Br^{2} F G fm r^{2} \\rho^{2} v^{3} + 6 Br^{2} F P fm r^{2} \\rho v + 8 Br^{2} F P r^{2} \\rho v - 3 Br^{2} F fm r^{2} \\rho^{2} v^{3} + 32 \\pi F^{2} P r^{3} \\rho^{2} v + 32 \\pi F G L P^{2} \\alpha fvis r \\rho + 16 \\pi F G L P \\alpha fvis r \\rho^{2} v^{2} - 16 \\pi F G L \\alpha fvis r \\rho^{3} v^{4} - 32 \\pi F L^{2} P \\rho^{2} v - 32 \\pi F L P^{2} \\alpha fvis r \\rho - 16 \\pi F L P \\alpha fvis r \\rho^{2} v^{2} + 16 \\pi F L \\alpha fvis r \\rho^{3} v^{4} - 48 \\pi F P r^{2} \\rho^{2} v^{3} + 16 \\pi P dFdr r^{3} \\rho^{2} v^{3}}{- 32 \\pi F G P^{2} r^{3} v + 16 \\pi F G P r^{3} \\rho v^{3} + 16 \\pi F P r^{3} \\rho v^{3}}, \\  \\frac{8 BPhi^{2} F G P^{2} \\alpha r^{2} - 3 BPhi^{2} F G P \\alpha fm r^{2} \\rho v^{2} - 8 BPhi^{2} F G P \\alpha r^{2} \\rho v^{2} + 3 BPhi^{2} F G \\alpha fm r^{2} \\rho^{2} v^{4} + 3 BPhi^{2} F P \\alpha fm r^{2} \\rho v^{2} - 3 BPhi^{2} F \\alpha fm r^{2} \\rho^{2} v^{4} - 8 BPhi Br F G P^{2} r + 4 BPhi Br F G P r \\rho v^{2} + 4 BPhi Br F P r \\rho v^{2} + 8 Br^{2} F G P^{2} \\alpha r^{2} + 8 Br^{2} F G P^{2} r - 3 Br^{2} F G P \\alpha fm r^{2} \\rho v^{2} - 8 Br^{2} F G P \\alpha r^{2} \\rho v^{2} - 4 Br^{2} F G P r \\rho v^{2} + 3 Br^{2} F G \\alpha fm r^{2} \\rho^{2} v^{4} + 3 Br^{2} F P \\alpha fm r^{2} \\rho v^{2} - 4 Br^{2} F P r \\rho v^{2} - 3 Br^{2} F \\alpha fm r^{2} \\rho^{2} v^{4} + 32 \\pi F^{2} G P^{2} \\alpha r^{3} \\rho - 32 \\pi F^{2} G P \\alpha r^{3} \\rho^{2} v^{2} - 32 \\pi F G L^{2} P^{2} \\alpha \\rho + 32 \\pi F G L^{2} P \\alpha \\rho^{2} v^{2} + 16 \\pi F G L P^{2} \\alpha^{2} fvis r \\rho v - 16 \\pi F G L \\alpha^{2} fvis r \\rho^{3} v^{5} - 64 \\pi F G P^{3} \\alpha r^{2} + 16 \\pi F G P^{2} \\alpha r^{2} \\rho v^{2} + 32 \\pi F G P \\alpha r^{2} \\rho^{2} v^{4} - 16 \\pi F L P^{2} \\alpha^{2} fvis r \\rho v + 16 \\pi F L \\alpha^{2} fvis r \\rho^{3} v^{5} + 32 \\pi F P^{2} \\alpha r^{2} \\rho v^{2} - 16 \\pi F P \\alpha r^{2} \\rho^{2} v^{4} - 16 \\pi G P^{2} \\alpha dFdr r^{3} \\rho v^{2} + 16 \\pi P \\alpha dFdr r^{3} \\rho^{2} v^{4}}{- 32 \\pi F G P^{2} r^{2} \\rho v + 16 \\pi F G P r^{2} \\rho^{2} v^{3} + 16 \\pi F P r^{2} \\rho^{2} v^{3}}, \\  - \\frac{Br}{r}, \\  \\frac{- 3 BPhi^{3} F G P fm r^{2} \\rho v^{2} + 4 BPhi^{3} F G P r^{2} \\rho v^{2} + 3 BPhi^{3} F P fm r^{2} \\rho v^{2} + 4 BPhi^{3} F P r^{2} \\rho v^{2} + 8 BPhi^{2} Br F G P^{2} \\alpha r^{2} - 3 BPhi^{2} Br F G P \\alpha fm r^{2} \\rho v^{2} - 8 BPhi^{2} Br F G P \\alpha r^{2} \\rho v^{2} + 3 BPhi^{2} Br F G \\alpha fm r^{2} \\rho^{2} v^{4} + 3 BPhi^{2} Br F P \\alpha fm r^{2} \\rho v^{2} - 3 BPhi^{2} Br F \\alpha fm r^{2} \\rho^{2} v^{4} - 8 BPhi Br^{2} F G P^{2} r - 3 BPhi Br^{2} F G P fm r^{2} \\rho v^{2} + 4 BPhi Br^{2} F G P r^{2} \\rho v^{2} + 4 BPhi Br^{2} F G P r \\rho v^{2} + 3 BPhi Br^{2} F P fm r^{2} \\rho v^{2} + 4 BPhi Br^{2} F P r^{2} \\rho v^{2} + 4 BPhi Br^{2} F P r \\rho v^{2} + 16 \\pi BPhi F^{2} G P r^{3} \\rho^{2} v^{2} + 16 \\pi BPhi F^{2} P r^{3} \\rho^{2} v^{2} - 16 \\pi BPhi F G L^{2} P \\rho^{2} v^{2} + 16 \\pi BPhi F G L P^{2} \\alpha fvis r \\rho v + 16 \\pi BPhi F G L P \\alpha fvis r \\rho^{2} v^{3} - 48 \\pi BPhi F G P^{2} r^{2} \\rho v^{2} - 16 \\pi BPhi F L^{2} P \\rho^{2} v^{2} - 16 \\pi BPhi F L P^{2} \\alpha fvis r \\rho v - 16 \\pi BPhi F L P \\alpha fvis r \\rho^{2} v^{3} + 16 \\pi BPhi G P^{2} dFdr r^{3} \\rho v^{2} + 8 Br^{3} F G P^{2} \\alpha r^{2} + 8 Br^{3} F G P^{2} r - 3 Br^{3} F G P \\alpha fm r^{2} \\rho v^{2} - 8 Br^{3} F G P \\alpha r^{2} \\rho v^{2} - 4 Br^{3} F G P r \\rho v^{2} + 3 Br^{3} F G \\alpha fm r^{2} \\rho^{2} v^{4} + 3 Br^{3} F P \\alpha fm r^{2} \\rho v^{2} - 4 Br^{3} F P r \\rho v^{2} - 3 Br^{3} F \\alpha fm r^{2} \\rho^{2} v^{4} + 32 \\pi Br F^{2} G P^{2} \\alpha r^{3} \\rho - 32 \\pi Br F^{2} G P \\alpha r^{3} \\rho^{2} v^{2} - 32 \\pi Br F G L^{2} P^{2} \\alpha \\rho + 32 \\pi Br F G L^{2} P \\alpha \\rho^{2} v^{2} + 16 \\pi Br F G L P^{2} \\alpha^{2} fvis r \\rho v + 64 \\pi Br F G L P^{2} r \\rho v - 32 \\pi Br F G L P r \\rho^{2} v^{3} - 16 \\pi Br F G L \\alpha^{2} fvis r \\rho^{3} v^{5} - 64 \\pi Br F G P^{3} \\alpha r^{2} + 16 \\pi Br F G P^{2} \\alpha r^{2} \\rho v^{2} + 32 \\pi Br F G P \\alpha r^{2} \\rho^{2} v^{4} - 16 \\pi Br F L P^{2} \\alpha^{2} fvis r \\rho v - 32 \\pi Br F L P r \\rho^{2} v^{3} + 16 \\pi Br F L \\alpha^{2} fvis r \\rho^{3} v^{5} + 32 \\pi Br F P^{2} \\alpha r^{2} \\rho v^{2} - 16 \\pi Br F P \\alpha r^{2} \\rho^{2} v^{4} - 16 \\pi Br G P^{2} \\alpha dFdr r^{3} \\rho v^{2} + 16 \\pi Br P \\alpha dFdr r^{3} \\rho^{2} v^{4}}{- 32 \\pi F G P^{2} r^{3} \\rho v^{2} + 16 \\pi F G P r^{3} \\rho^{2} v^{4} + 16 \\pi F P r^{3} \\rho^{2} v^{4}}, \\  \\frac{3 BPhi^{2} F G P fm h r^{2} v + 4 BPhi^{2} F G P h r^{2} v - 3 BPhi^{2} F G fm h r^{2} \\rho v^{3} - 3 BPhi^{2} F P fm h r^{2} v - 4 BPhi^{2} F P h r^{2} v + 3 BPhi^{2} F fm h r^{2} \\rho v^{3} + 3 Br^{2} F G P fm h r^{2} v + 4 Br^{2} F G P h r^{2} v - 3 Br^{2} F G fm h r^{2} \\rho v^{3} - 3 Br^{2} F P fm h r^{2} v - 4 Br^{2} F P h r^{2} v + 3 Br^{2} F fm h r^{2} \\rho v^{3} + 16 \\pi F^{2} G P h r^{3} \\rho v - 16 \\pi F^{2} P h r^{3} \\rho v - 16 \\pi F G L^{2} P h \\rho v - 16 \\pi F G L P^{2} \\alpha fvis h r + 16 \\pi F G L \\alpha fvis h r \\rho^{2} v^{4} - 16 \\pi F G P^{2} h r^{2} v - 16 \\pi F G P h r^{2} \\rho v^{3} + 16 \\pi F L^{2} P h \\rho v + 16 \\pi F L P^{2} \\alpha fvis h r - 16 \\pi F L \\alpha fvis h r \\rho^{2} v^{4} + 32 \\pi F P h r^{2} \\rho v^{3} + 16 \\pi G P^{2} dFdr h r^{3} v - 16 \\pi P dFdr h r^{3} \\rho v^{3}}{- 32 \\pi F G P^{2} r^{3} v + 16 \\pi F G P r^{3} \\rho v^{3} + 16 \\pi F P r^{3} \\rho v^{3}}\\right)\\right\\}$"
      ],
      "text/plain": [
       "{((3*BPhi**2*F*G*fm*r**2*v - 4*BPhi**2*F*G*r**2*v - 3*BPhi**2*F*fm*r**2*v - 4*BPhi**2*F*r**2*v + 3*Br**2*F*G*fm*r**2*v - 4*Br**2*F*G*r**2*v - 3*Br**2*F*fm*r**2*v - 4*Br**2*F*r**2*v - 16*pi*F**2*G*r**3*rho*v - 16*pi*F**2*r**3*rho*v + 16*pi*F*G*L**2*rho*v - 16*pi*F*G*L*P*alpha*fvis*r - 16*pi*F*G*L*alpha*fvis*r*rho*v**2 + 48*pi*F*G*P*r**2*v + 16*pi*F*L**2*rho*v + 16*pi*F*L*P*alpha*fvis*r + 16*pi*F*L*alpha*fvis*r*rho*v**2 - 16*pi*G*P*dFdr*r**3*v)/(-32*pi*F*G*P*r**3 + 16*pi*F*G*r**3*rho*v**2 + 16*pi*F*r**3*rho*v**2), (8*BPhi**2*F*G*P*r**2 - 3*BPhi**2*F*G*fm*r**2*rho*v**2 + 3*BPhi**2*F*fm*r**2*rho*v**2 + 8*Br**2*F*G*P*r**2 - 3*Br**2*F*G*fm*r**2*rho*v**2 + 3*Br**2*F*fm*r**2*rho*v**2 + 32*pi*F**2*G*P*r**3*rho - 32*pi*F*G*L**2*P*rho + 16*pi*F*G*L*P*alpha*fvis*r*rho*v + 16*pi*F*G*L*alpha*fvis*r*rho**2*v**3 - 48*pi*F*G*P*r**2*rho*v**2 - 16*pi*F*L*P*alpha*fvis*r*rho*v - 16*pi*F*L*alpha*fvis*r*rho**2*v**3 + 16*pi*G*P*dFdr*r**3*rho*v**2)/(-32*pi*F*G*P*r**3 + 16*pi*F*G*r**3*rho*v**2 + 16*pi*F*r**3*rho*v**2), (-6*BPhi**2*F*G*P*fm*r**2*rho*v + 3*BPhi**2*F*G*fm*r**2*rho**2*v**3 + 6*BPhi**2*F*P*fm*r**2*rho*v + 8*BPhi**2*F*P*r**2*rho*v - 3*BPhi**2*F*fm*r**2*rho**2*v**3 - 6*Br**2*F*G*P*fm*r**2*rho*v + 3*Br**2*F*G*fm*r**2*rho**2*v**3 + 6*Br**2*F*P*fm*r**2*rho*v + 8*Br**2*F*P*r**2*rho*v - 3*Br**2*F*fm*r**2*rho**2*v**3 + 32*pi*F**2*P*r**3*rho**2*v + 32*pi*F*G*L*P**2*alpha*fvis*r*rho + 16*pi*F*G*L*P*alpha*fvis*r*rho**2*v**2 - 16*pi*F*G*L*alpha*fvis*r*rho**3*v**4 - 32*pi*F*L**2*P*rho**2*v - 32*pi*F*L*P**2*alpha*fvis*r*rho - 16*pi*F*L*P*alpha*fvis*r*rho**2*v**2 + 16*pi*F*L*alpha*fvis*r*rho**3*v**4 - 48*pi*F*P*r**2*rho**2*v**3 + 16*pi*P*dFdr*r**3*rho**2*v**3)/(-32*pi*F*G*P**2*r**3*v + 16*pi*F*G*P*r**3*rho*v**3 + 16*pi*F*P*r**3*rho*v**3), (8*BPhi**2*F*G*P**2*alpha*r**2 - 3*BPhi**2*F*G*P*alpha*fm*r**2*rho*v**2 - 8*BPhi**2*F*G*P*alpha*r**2*rho*v**2 + 3*BPhi**2*F*G*alpha*fm*r**2*rho**2*v**4 + 3*BPhi**2*F*P*alpha*fm*r**2*rho*v**2 - 3*BPhi**2*F*alpha*fm*r**2*rho**2*v**4 - 8*BPhi*Br*F*G*P**2*r + 4*BPhi*Br*F*G*P*r*rho*v**2 + 4*BPhi*Br*F*P*r*rho*v**2 + 8*Br**2*F*G*P**2*alpha*r**2 + 8*Br**2*F*G*P**2*r - 3*Br**2*F*G*P*alpha*fm*r**2*rho*v**2 - 8*Br**2*F*G*P*alpha*r**2*rho*v**2 - 4*Br**2*F*G*P*r*rho*v**2 + 3*Br**2*F*G*alpha*fm*r**2*rho**2*v**4 + 3*Br**2*F*P*alpha*fm*r**2*rho*v**2 - 4*Br**2*F*P*r*rho*v**2 - 3*Br**2*F*alpha*fm*r**2*rho**2*v**4 + 32*pi*F**2*G*P**2*alpha*r**3*rho - 32*pi*F**2*G*P*alpha*r**3*rho**2*v**2 - 32*pi*F*G*L**2*P**2*alpha*rho + 32*pi*F*G*L**2*P*alpha*rho**2*v**2 + 16*pi*F*G*L*P**2*alpha**2*fvis*r*rho*v - 16*pi*F*G*L*alpha**2*fvis*r*rho**3*v**5 - 64*pi*F*G*P**3*alpha*r**2 + 16*pi*F*G*P**2*alpha*r**2*rho*v**2 + 32*pi*F*G*P*alpha*r**2*rho**2*v**4 - 16*pi*F*L*P**2*alpha**2*fvis*r*rho*v + 16*pi*F*L*alpha**2*fvis*r*rho**3*v**5 + 32*pi*F*P**2*alpha*r**2*rho*v**2 - 16*pi*F*P*alpha*r**2*rho**2*v**4 - 16*pi*G*P**2*alpha*dFdr*r**3*rho*v**2 + 16*pi*P*alpha*dFdr*r**3*rho**2*v**4)/(-32*pi*F*G*P**2*r**2*rho*v + 16*pi*F*G*P*r**2*rho**2*v**3 + 16*pi*F*P*r**2*rho**2*v**3), -Br/r, (-3*BPhi**3*F*G*P*fm*r**2*rho*v**2 + 4*BPhi**3*F*G*P*r**2*rho*v**2 + 3*BPhi**3*F*P*fm*r**2*rho*v**2 + 4*BPhi**3*F*P*r**2*rho*v**2 + 8*BPhi**2*Br*F*G*P**2*alpha*r**2 - 3*BPhi**2*Br*F*G*P*alpha*fm*r**2*rho*v**2 - 8*BPhi**2*Br*F*G*P*alpha*r**2*rho*v**2 + 3*BPhi**2*Br*F*G*alpha*fm*r**2*rho**2*v**4 + 3*BPhi**2*Br*F*P*alpha*fm*r**2*rho*v**2 - 3*BPhi**2*Br*F*alpha*fm*r**2*rho**2*v**4 - 8*BPhi*Br**2*F*G*P**2*r - 3*BPhi*Br**2*F*G*P*fm*r**2*rho*v**2 + 4*BPhi*Br**2*F*G*P*r**2*rho*v**2 + 4*BPhi*Br**2*F*G*P*r*rho*v**2 + 3*BPhi*Br**2*F*P*fm*r**2*rho*v**2 + 4*BPhi*Br**2*F*P*r**2*rho*v**2 + 4*BPhi*Br**2*F*P*r*rho*v**2 + 16*pi*BPhi*F**2*G*P*r**3*rho**2*v**2 + 16*pi*BPhi*F**2*P*r**3*rho**2*v**2 - 16*pi*BPhi*F*G*L**2*P*rho**2*v**2 + 16*pi*BPhi*F*G*L*P**2*alpha*fvis*r*rho*v + 16*pi*BPhi*F*G*L*P*alpha*fvis*r*rho**2*v**3 - 48*pi*BPhi*F*G*P**2*r**2*rho*v**2 - 16*pi*BPhi*F*L**2*P*rho**2*v**2 - 16*pi*BPhi*F*L*P**2*alpha*fvis*r*rho*v - 16*pi*BPhi*F*L*P*alpha*fvis*r*rho**2*v**3 + 16*pi*BPhi*G*P**2*dFdr*r**3*rho*v**2 + 8*Br**3*F*G*P**2*alpha*r**2 + 8*Br**3*F*G*P**2*r - 3*Br**3*F*G*P*alpha*fm*r**2*rho*v**2 - 8*Br**3*F*G*P*alpha*r**2*rho*v**2 - 4*Br**3*F*G*P*r*rho*v**2 + 3*Br**3*F*G*alpha*fm*r**2*rho**2*v**4 + 3*Br**3*F*P*alpha*fm*r**2*rho*v**2 - 4*Br**3*F*P*r*rho*v**2 - 3*Br**3*F*alpha*fm*r**2*rho**2*v**4 + 32*pi*Br*F**2*G*P**2*alpha*r**3*rho - 32*pi*Br*F**2*G*P*alpha*r**3*rho**2*v**2 - 32*pi*Br*F*G*L**2*P**2*alpha*rho + 32*pi*Br*F*G*L**2*P*alpha*rho**2*v**2 + 16*pi*Br*F*G*L*P**2*alpha**2*fvis*r*rho*v + 64*pi*Br*F*G*L*P**2*r*rho*v - 32*pi*Br*F*G*L*P*r*rho**2*v**3 - 16*pi*Br*F*G*L*alpha**2*fvis*r*rho**3*v**5 - 64*pi*Br*F*G*P**3*alpha*r**2 + 16*pi*Br*F*G*P**2*alpha*r**2*rho*v**2 + 32*pi*Br*F*G*P*alpha*r**2*rho**2*v**4 - 16*pi*Br*F*L*P**2*alpha**2*fvis*r*rho*v - 32*pi*Br*F*L*P*r*rho**2*v**3 + 16*pi*Br*F*L*alpha**2*fvis*r*rho**3*v**5 + 32*pi*Br*F*P**2*alpha*r**2*rho*v**2 - 16*pi*Br*F*P*alpha*r**2*rho**2*v**4 - 16*pi*Br*G*P**2*alpha*dFdr*r**3*rho*v**2 + 16*pi*Br*P*alpha*dFdr*r**3*rho**2*v**4)/(-32*pi*F*G*P**2*r**3*rho*v**2 + 16*pi*F*G*P*r**3*rho**2*v**4 + 16*pi*F*P*r**3*rho**2*v**4), (3*BPhi**2*F*G*P*fm*h*r**2*v + 4*BPhi**2*F*G*P*h*r**2*v - 3*BPhi**2*F*G*fm*h*r**2*rho*v**3 - 3*BPhi**2*F*P*fm*h*r**2*v - 4*BPhi**2*F*P*h*r**2*v + 3*BPhi**2*F*fm*h*r**2*rho*v**3 + 3*Br**2*F*G*P*fm*h*r**2*v + 4*Br**2*F*G*P*h*r**2*v - 3*Br**2*F*G*fm*h*r**2*rho*v**3 - 3*Br**2*F*P*fm*h*r**2*v - 4*Br**2*F*P*h*r**2*v + 3*Br**2*F*fm*h*r**2*rho*v**3 + 16*pi*F**2*G*P*h*r**3*rho*v - 16*pi*F**2*P*h*r**3*rho*v - 16*pi*F*G*L**2*P*h*rho*v - 16*pi*F*G*L*P**2*alpha*fvis*h*r + 16*pi*F*G*L*alpha*fvis*h*r*rho**2*v**4 - 16*pi*F*G*P**2*h*r**2*v - 16*pi*F*G*P*h*r**2*rho*v**3 + 16*pi*F*L**2*P*h*rho*v + 16*pi*F*L*P**2*alpha*fvis*h*r - 16*pi*F*L*alpha*fvis*h*r*rho**2*v**4 + 32*pi*F*P*h*r**2*rho*v**3 + 16*pi*G*P**2*dFdr*h*r**3*v - 16*pi*P*dFdr*h*r**3*rho*v**3)/(-32*pi*F*G*P**2*r**3*v + 16*pi*F*G*P*r**3*rho*v**3 + 16*pi*F*P*r**3*rho*v**3))}"
      ]
     },
     "execution_count": 56,
     "metadata": {},
     "output_type": "execute_result"
    }
   ],
   "source": [
    "smp.simplify(sol)"
   ]
  },
  {
   "cell_type": "code",
   "execution_count": 57,
   "metadata": {},
   "outputs": [],
   "source": [
    "r, f = smp.symbols(\"r, f\")\n",
    "g = smp.Function(\"g\")(r)"
   ]
  },
  {
   "cell_type": "code",
   "execution_count": 58,
   "metadata": {},
   "outputs": [],
   "source": [
    "f = r**2 + 1"
   ]
  },
  {
   "cell_type": "code",
   "execution_count": 59,
   "metadata": {},
   "outputs": [
    {
     "data": {
      "text/latex": [
       "$\\displaystyle 2 r$"
      ],
      "text/plain": [
       "2*r"
      ]
     },
     "execution_count": 59,
     "metadata": {},
     "output_type": "execute_result"
    }
   ],
   "source": [
    "smp.diff(f, r)"
   ]
  },
  {
   "cell_type": "code",
   "execution_count": 60,
   "metadata": {},
   "outputs": [],
   "source": [
    "dgdr = smp.diff(g, r)"
   ]
  },
  {
   "cell_type": "code",
   "execution_count": 61,
   "metadata": {},
   "outputs": [
    {
     "ename": "ValueError",
     "evalue": "Invalid arguments",
     "output_type": "error",
     "traceback": [
      "\u001b[1;31m---------------------------------------------------------------------------\u001b[0m",
      "\u001b[1;31mValueError\u001b[0m                                Traceback (most recent call last)",
      "\u001b[1;32mc:\\Users\\mythi\\Dropbox\\College Stuff2\\Projects\\Computational Astrophysics\\Python codes\\HydroMagnetic Advection\\Scratch.ipynb Cell 11\u001b[0m in \u001b[0;36m<cell line: 1>\u001b[1;34m()\u001b[0m\n\u001b[1;32m----> <a href='vscode-notebook-cell:/c%3A/Users/mythi/Dropbox/College%20Stuff2/Projects/Computational%20Astrophysics/Python%20codes/HydroMagnetic%20Advection/Scratch.ipynb#ch0000010?line=0'>1</a>\u001b[0m smp\u001b[39m.\u001b[39;49mlinsolve(smp\u001b[39m.\u001b[39;49mdiff(g, r) \u001b[39m-\u001b[39;49m \u001b[39m1\u001b[39;49m, dgdr)\n",
      "File \u001b[1;32mc:\\Users\\mythi\\AppData\\Local\\Programs\\Python\\Python39\\lib\\site-packages\\sympy\\solvers\\solveset.py:2796\u001b[0m, in \u001b[0;36mlinsolve\u001b[1;34m(system, *symbols)\u001b[0m\n\u001b[0;32m   2793\u001b[0m     A, b \u001b[39m=\u001b[39m system[:, :\u001b[39m-\u001b[39m\u001b[39m1\u001b[39m], system[:, \u001b[39m-\u001b[39m\u001b[39m1\u001b[39m:]\n\u001b[0;32m   2795\u001b[0m \u001b[39mif\u001b[39;00m b \u001b[39mis\u001b[39;00m \u001b[39mNone\u001b[39;00m:\n\u001b[1;32m-> 2796\u001b[0m     \u001b[39mraise\u001b[39;00m \u001b[39mValueError\u001b[39;00m(\u001b[39m\"\u001b[39m\u001b[39mInvalid arguments\u001b[39m\u001b[39m\"\u001b[39m)\n\u001b[0;32m   2797\u001b[0m \u001b[39mif\u001b[39;00m sym_gen:\n\u001b[0;32m   2798\u001b[0m     symbols \u001b[39m=\u001b[39m [\u001b[39mnext\u001b[39m(symbols) \u001b[39mfor\u001b[39;00m i \u001b[39min\u001b[39;00m \u001b[39mrange\u001b[39m(A\u001b[39m.\u001b[39mcols)]\n",
      "\u001b[1;31mValueError\u001b[0m: Invalid arguments"
     ]
    }
   ],
   "source": [
    "smp.linsolve(smp.diff(g, r) - 1, dgdr)"
   ]
  },
  {
   "cell_type": "code",
   "execution_count": null,
   "metadata": {},
   "outputs": [],
   "source": [
    "#Defining the variables\n",
    "R, A = smp.symbols('r, a')\n",
    "num = (R**2 - 2*A*smp.sqrt(R) + A**2)**2\n",
    "den = R**3 * (smp.sqrt(R)*(R - 2) + A)**2\n",
    "force_sym = num/den\n",
    "\n",
    "#Creating the force function\n",
    "Force = smp.lambdify((R, A), force_sym)\n",
    "dFdr = smp.lambdify((R, A), smp.diff(force_sym, R))"
   ]
  },
  {
   "cell_type": "code",
   "execution_count": null,
   "metadata": {},
   "outputs": [],
   "source": [
    "G = 1.4\n",
    "fm = 0.5\n",
    "alpha = 0\n",
    "fvis = 0.5\n",
    "Lc = 2.5"
   ]
  },
  {
   "cell_type": "code",
   "execution_count": null,
   "metadata": {},
   "outputs": [],
   "source": [
    "def dvdr(S):\n",
    "   r, v, P, rho, L, Br, Bphi, a = S\n",
    "   Br = np.sqrt(4*np.pi*abs(P)/30)\n",
    "   Bphi = Br\n",
    "   num1 = dFdr(r, a)/(2*Force(r, a)) - 3/(2*r) - rho * (1 + 1/G) * (L**2/r**3 - Force(r, a) - (Br**2 + Bphi**2)/(4*np.pi*rho*r)) / (2*P)\n",
    "   num2 = (G - 1) * (alpha*fvis*(P + rho*v**2)*L/r**2 + 3*fm*(Br**2 + Bphi**2)*v/(16*np.pi*r))\n",
    "   den = 1/v - v*rho*(1 + 1/G) / (2*P)\n",
    "   return [(num1 + num2) , den]"
   ]
  },
  {
   "cell_type": "code",
   "execution_count": null,
   "metadata": {},
   "outputs": [],
   "source": [
    "def dPdr(S):\n",
    "   r, v, P, rho, L, Br, Bphi, a = S\n",
    "   Br = np.sqrt(4*np.pi*abs(P)/30)\n",
    "   Bphi = Br\n",
    "   num1 = G*P*(Br**2 + Bphi**2) / (2*np.pi*rho*v**2*r) + (G - 1) * (L*alpha*fvis*(P + rho*v**2) / (r**2 * v) - 3*fm*(Br**2 + Bphi**2) / (16*np.pi*r))\n",
    "   num2 = 2*G*P*(Force(r, a) - L**2/r**3) / v**2 - 3*G*P/r + G*P*dFdr(r, a) / Force(r, a)\n",
    "   den = (G + 1) - 2*G*P/(rho * v**2)\n",
    "   return [(num1 + num2) , den]"
   ]
  },
  {
   "cell_type": "code",
   "execution_count": null,
   "metadata": {},
   "outputs": [],
   "source": [
    "def drhodr(S):\n",
    "   r, v, P, rho, L, Br, Bphi, a = S\n",
    "   Br = np.sqrt(4*np.pi*abs(P)/30)\n",
    "   Bphi = Br\n",
    "   num1 = (G - 1) * (3*fm*(Br**2 + Bphi**2)*rho*(rho * v**2/P - 2)/(16*np.pi*r) + fvis*L*alpha* rho**2 *v*(1 - rho* v**2 / P) / r**2 + 2*L*alpha*fvis*P*rho / (G* r**2))\n",
    "   num2 = 2* rho**2 * (Force(r, a) - L**2/r**3) - 3* rho**2 * v**2 / r + dFdr(r, a)* rho**2 * v**2 / Force(r, a)\n",
    "   den = (G + 1) * rho * v**2 - 2*G*P\n",
    "   return [(num1 + num2) , den]"
   ]
  },
  {
   "cell_type": "code",
   "execution_count": null,
   "metadata": {},
   "outputs": [],
   "source": [
    "def dLdr(S):\n",
    "   r, v, P, rho, L, Br, Bphi, a = S\n",
    "   Br = np.sqrt(4*np.pi*abs(P)/30)\n",
    "   Bphi = Br\n",
    "   num1 = G*(Bphi**2 + Br**2)*alpha*(P - rho* v**2) / (2*np.pi*r*rho*v) - (G - 1)*3*fm*(Br**2 + Bphi**2)*alpha*v*(1 - rho* v**2 / P) / (16*np.pi*r)\n",
    "   num2 = G*(Br**2 - Bphi*Br)*P/(2*np.pi* r**2 * rho*v) + (G + 1) * (Bphi*Br + Br**2)*v / (4*np.pi* r**2)\n",
    "   num3 = 2*G*P*alpha * (Force(r, a) + L**2 * (rho * v**2 / P - 1) / r**3 + v**2 * (rho* v**2 / P + 1/G) / r)\n",
    "   num4 = (G - 1) * L*alpha*fvis* (P**2 - rho**2 * v**4) / (P* r**2) - 4*G*P*alpha*v/r\n",
    "   num5 = alpha*v * (rho* v**2 / r + G*P*dFdr(r, a) / Force(r, a) - dFdr(r, a) * rho * v**2 / Force(r, a))\n",
    "   den = (G + 1) * rho * v**2 / r - 2*G*P/r\n",
    "   return [(num1 + num2 + num3 + num4 + num5) , den]"
   ]
  },
  {
   "cell_type": "code",
   "execution_count": null,
   "metadata": {},
   "outputs": [],
   "source": [
    "def Crit(S, L, a):\n",
    "    r, v, rho, Pressure = S\n",
    "    Br = np.sqrt(4*np.pi*abs(Pressure)/30)\n",
    "    Bphi = Br\n",
    "    eq1, temp = dvdr([r, v, Pressure, rho, L, Br, Bphi, a])\n",
    "    eq2, den = dPdr([r, v, Pressure, rho, L, Br, Bphi, a])\n",
    "    eq3, temp = drhodr([r, v, Pressure, rho, L, Br, Bphi, a])\n",
    "    eq4, temp = dLdr([r, v, Pressure, rho, L, Br, Bphi, a])\n",
    "    return [eq1, eq2, eq3, den]"
   ]
  },
  {
   "cell_type": "code",
   "execution_count": null,
   "metadata": {},
   "outputs": [],
   "source": [
    "r_ini_guess = 4\n",
    "v_ini_guess = 0.2\n",
    "rho_ini_guess = 10**3\n",
    "P_ini_guess = 10**2\n",
    "\n",
    "ini_guess = np.array([r_ini_guess, v_ini_guess, rho_ini_guess, P_ini_guess])"
   ]
  },
  {
   "cell_type": "code",
   "execution_count": null,
   "metadata": {},
   "outputs": [
    {
     "name": "stdout",
     "output_type": "stream",
     "text": [
      "r_crit = 3.915787961748282\n",
      "v_crit = 0.3355684781508987\n",
      "P_crit = 0.49181949845736206\n",
      "rho_crit = 5.085595826048515\n",
      "num1 = 0.01326287002730328, den1 = 0.005815640442128345\n",
      "num2 = 0.018899434008270995, den2 = -0.004692867815927926\n",
      "num3 = -0.005251683039891547, den3 = -0.002687462916387773\n",
      "num4 = 0.0017221403790373504, den4 = -0.0006863147194486885\n"
     ]
    },
    {
     "name": "stderr",
     "output_type": "stream",
     "text": [
      "c:\\Users\\mythi\\AppData\\Local\\Programs\\Python\\Python39\\lib\\site-packages\\scipy\\optimize\\minpack.py:175: RuntimeWarning: The iteration is not making good progress, as measured by the \n",
      "  improvement from the last five Jacobian evaluations.\n",
      "  warnings.warn(msg, RuntimeWarning)\n"
     ]
    }
   ],
   "source": [
    "r_crit, v_crit, rho_crit, P_crit = fsolve(Crit, ini_guess, args=(3.2, 0), maxfev = 2000)\n",
    "print(f\"r_crit = {r_crit}\")\n",
    "print(f\"v_crit = {v_crit}\")\n",
    "print(f\"P_crit = {P_crit}\")\n",
    "print(f\"rho_crit = {rho_crit}\")\n",
    "\n",
    "Br_crit = np.sqrt(4*np.pi*abs(P_crit)/30)\n",
    "Bphi_crit = Br_crit\n",
    "\n",
    "S = [r_crit, v_crit, P_crit, rho_crit, 3.2, Br_crit, Bphi_crit, 0]\n",
    "num1, den1 = dvdr(S)\n",
    "num2, den2 = dPdr(S)\n",
    "num3, den3 = drhodr(S)\n",
    "num4, den4 = dLdr(S)\n",
    "\n",
    "print(f\"num1 = {num1}, den1 = {den1}\")\n",
    "print(f\"num2 = {num2}, den2 = {den2}\")\n",
    "print(f\"num3 = {num3}, den3 = {den3}\")\n",
    "print(f\"num4 = {num4}, den4 = {den4}\")"
   ]
  },
  {
   "cell_type": "code",
   "execution_count": null,
   "metadata": {},
   "outputs": [],
   "source": [
    "def system(S, L, a, b):\n",
    "    return Crit(S, L, a) - b"
   ]
  },
  {
   "cell_type": "code",
   "execution_count": null,
   "metadata": {},
   "outputs": [],
   "source": [
    "b = np.zeros(6)\n",
    "\n",
    "solution = leastsq(system, ini_guess, args=(3.2, 0, b), maxfev = 2000)\n",
    "print(solution)\n",
    "r_crit = solution[0][0]\n",
    "v_crit = solution[0][1]\n",
    "P_crit = solution[0][2]\n",
    "rho_crit = solution[0][3]\n",
    "print(f\"r_crit = {r_crit}\")\n",
    "print(f\"v_crit = {v_crit}\")\n",
    "print(f\"P_crit = {P_crit}\")\n",
    "print(f\"rho_crit = {rho_crit}\")\n",
    "\n",
    "Br_crit = np.sqrt(4*np.pi*P_crit/30)\n",
    "Bphi_crit = Br_crit\n",
    "\n",
    "S = [r_crit, v_crit, P_crit, rho_crit, 3.2, Br_crit, Bphi_crit, 0]\n",
    "num1, den1 = dvdr(S)\n",
    "num2, den2 = dPdr(S)\n",
    "num3, den3 = drhodr(S)\n",
    "num4, den4 = dLdr(S)\n",
    "\n",
    "print(f\"num1 = {num1}, den1 = {den1}\")\n",
    "print(f\"num2 = {num2}, den2 = {den2}\")\n",
    "print(f\"num3 = {num3}, den3 = {den3}\")\n",
    "print(f\"num4 = {num4}, den4 = {den4}\")"
   ]
  },
  {
   "cell_type": "code",
   "execution_count": null,
   "metadata": {},
   "outputs": [],
   "source": [
    "h = 0.0001"
   ]
  },
  {
   "cell_type": "code",
   "execution_count": null,
   "metadata": {},
   "outputs": [],
   "source": [
    "def crit_der_up(S, L, a):\n",
    "    dvdr_crit, dPdr_crit, drhodr_crit, dLdr_crit = S\n",
    "    r = r_crit + h\n",
    "    v = v_crit + h*dvdr_crit\n",
    "    Pressure = P_crit + h*dPdr_crit\n",
    "    rho = rho_crit + h*drhodr_crit\n",
    "    L_calc = L + h*dLdr_crit \n",
    "    Br = np.sqrt(4*np.pi*abs(Pressure)/30)\n",
    "    Bphi = Br\n",
    "    eq1 = dvdr([r, v, Pressure, rho, L_calc, Br, Bphi, a])[0]/dvdr([r, v, Pressure, rho, L_calc, Br, Bphi, a])[1] - dvdr_crit\n",
    "    eq2 = dPdr([r, v, Pressure, rho, L_calc, Br, Bphi, a])[0]/dPdr([r, v, Pressure, rho, L_calc, Br, Bphi, a])[1] - dPdr_crit\n",
    "    eq3 = drhodr([r, v, Pressure, rho, L_calc, Br, Bphi, a])[0]/drhodr([r, v, Pressure, rho, L_calc, Br, Bphi, a])[1] - drhodr_crit\n",
    "    eq4 = dLdr([r, v, Pressure, rho, L_calc, Br, Bphi, a])[0]/dLdr([r, v, Pressure, rho, L_calc, Br, Bphi, a])[1] - dLdr_crit\n",
    "    return [eq1, eq2, eq3, eq4]"
   ]
  },
  {
   "cell_type": "code",
   "execution_count": null,
   "metadata": {},
   "outputs": [],
   "source": [
    "def crit_der_down(S, L, a):\n",
    "    dvdr_crit, dPdr_crit, drhodr_crit, dLdr_crit = S\n",
    "    r = r_crit - h\n",
    "    v = v_crit - h*dvdr_crit\n",
    "    Pressure = P_crit - h*dPdr_crit\n",
    "    rho = rho_crit - h*drhodr_crit\n",
    "    L_calc = L + h*dLdr_crit     \n",
    "    Br = np.sqrt(4*np.pi*abs(Pressure)/30)\n",
    "    Bphi = Br\n",
    "    eq1 = dvdr([r, v, Pressure, rho, L_calc, Br, Bphi, a])[0]/dvdr([r, v, Pressure, rho, L_calc, Br, Bphi, a])[1] - dvdr_crit\n",
    "    eq2 = dPdr([r, v, Pressure, rho, L_calc, Br, Bphi, a])[0]/dPdr([r, v, Pressure, rho, L_calc, Br, Bphi, a])[1] - dPdr_crit\n",
    "    eq3 = drhodr([r, v, Pressure, rho, L_calc, Br, Bphi, a])[0]/drhodr([r, v, Pressure, rho, L_calc, Br, Bphi, a])[1] - drhodr_crit\n",
    "    eq4 = dLdr([r, v, Pressure, rho, L_calc, Br, Bphi, a])[0]/dLdr([r, v, Pressure, rho, L_calc, Br, Bphi, a])[1] - dLdr_crit\n",
    "    return [eq1, eq2, eq3, eq4]"
   ]
  },
  {
   "cell_type": "code",
   "execution_count": null,
   "metadata": {},
   "outputs": [],
   "source": [
    "dvdr_ini_guess = -0.4\n",
    "dPdr_ini_guess = -10\n",
    "drhodr_ini_guess = -25\n",
    "dLdr_ini_guess = 0.01\n",
    "\n",
    "crit_der_ini_guess = [dvdr_ini_guess, dPdr_ini_guess, drhodr_ini_guess, dLdr_ini_guess]"
   ]
  },
  {
   "cell_type": "code",
   "execution_count": null,
   "metadata": {},
   "outputs": [],
   "source": [
    "v_crit_up, P_crit_up, rho_crit_up, L_crit_up = fsolve(crit_der_up, crit_der_ini_guess, args = (3.2, 0), maxfev = 2000)\n",
    "crit_der_up([v_crit_up, P_crit_up, rho_crit_up, L_crit_up], 3.2, 0)"
   ]
  },
  {
   "cell_type": "code",
   "execution_count": null,
   "metadata": {},
   "outputs": [],
   "source": [
    "v_crit_down, P_crit_down, rho_crit_down, L_crit_down = fsolve(crit_der_down, crit_der_ini_guess, args = (3.2, 0))\n",
    "crit_der_down([v_crit_down, P_crit_down, rho_crit_down, L_crit_down], 3.2, 0)"
   ]
  },
  {
   "cell_type": "code",
   "execution_count": null,
   "metadata": {},
   "outputs": [],
   "source": [
    "v_critical = (v_crit_up + v_crit_down) / 2\n",
    "v_critical"
   ]
  },
  {
   "cell_type": "code",
   "execution_count": null,
   "metadata": {},
   "outputs": [],
   "source": [
    "dvdr_crit = v_crit_down\n",
    "dPdr_crit = P_crit_down\n",
    "drhodr_crit = rho_crit_down\n",
    "dLdr_crit = L_crit_down"
   ]
  },
  {
   "cell_type": "code",
   "execution_count": null,
   "metadata": {},
   "outputs": [],
   "source": [
    "from Solving_ODE import Solve_ODE, derivatives, Crit_derivatives"
   ]
  },
  {
   "cell_type": "code",
   "execution_count": null,
   "metadata": {},
   "outputs": [],
   "source": [
    "derivativ(r_crit, [0.2, 20, 600, 3.0], 3.2, 0, [r_crit, v_crit, dvdr_crit, dPdr_crit, drhodr_crit, dLdr_crit])"
   ]
  },
  {
   "cell_type": "code",
   "execution_count": null,
   "metadata": {},
   "outputs": [],
   "source": [
    "Solve_ODE(3.2, 0.0, -1)"
   ]
  },
  {
   "cell_type": "code",
   "execution_count": null,
   "metadata": {},
   "outputs": [
    {
     "data": {
      "text/plain": [
       "[-0.02179793472278934, -0.11391931606790129]"
      ]
     },
     "execution_count": 33,
     "metadata": {},
     "output_type": "execute_result"
    }
   ],
   "source": [
    "Br = np.sqrt(4*np.pi*P_crit/30) + 0.01\n",
    "Bphi = Br \n",
    "dvdr([r_crit + 0.01, v_crit + 0.01, P_crit + 0.01, rho_crit + 0.01, 3.21, Br, Bphi, 0])"
   ]
  },
  {
   "cell_type": "code",
   "execution_count": null,
   "metadata": {},
   "outputs": [],
   "source": [
    "def Solve_Ode_above(Lc, a, sgn):\n",
    "    S_up, S_down = Crit_derivatives(Lc, a, sgn)\n",
    "    r_crit, v_crit, P_crit, rho_crit, dvdr_critical_up, dPdr_critical_up, drhodr_critical_up, dLdr_critical_up = S_up\n",
    "    Crits_up = np.array([r_crit, v_crit, dvdr_critical_up, dPdr_critical_up, drhodr_critical_up, dLdr_critical_up])\n",
    "    \n",
    "    r_crit, v_crit, P_crit, rho_crit, dvdr_critical_down, dPdr_critical_down, drhodr_critical_down, dLdr_critical_down = S_down\n",
    "    Crits_down = np.array([r_crit, v_crit, dvdr_critical_down, dPdr_critical_down, drhodr_critical_down, dLdr_critical_down])\n",
    "    \n",
    "    #Crits = (Crits_down - Crits_up) / 2\n",
    "    Crits = Crits_down\n",
    "    \n",
    "    #Solving the ODE above rc\n",
    "    r_solve = np.arange(r_crit, 15, 0.01)\n",
    "    solution = odeint(derivatives, y0 = np.array([v_crit, P_crit, rho_crit, 3.2]), t = r_solve, tfirst = True, args = (Lc, a, Crits))\n",
    "    \n",
    "    v_r = np.array([])\n",
    "    P_sol = np.array([])\n",
    "    rho = np.array([])\n",
    "    L_sol = np.array([])\n",
    "    for i in range(len(r_solve)):\n",
    "        v_r = np.concatenate((v_r, np.array([solution[i][0]])))\n",
    "        P_sol = np.concatenate((P_sol, np.array([solution[i][1]])))\n",
    "        rho = np.concatenate((rho, np.array([solution[i][2]])))\n",
    "        L_sol = np.concatenate((L_sol, np.array([solution[i][3]])))\n",
    "        \n",
    "    #For Accretion\n",
    "    if dvdr_critical_down < 0:\n",
    "        str = \"Accretion\"\n",
    "        x = v_r\n",
    "        \n",
    "    else:\n",
    "        str = \"Wind\"\n",
    "        x = np.sqrt(G * P_sol / rho)\n",
    "    \n",
    "    c_s = np.sqrt(G * P_sol / rho)\n",
    "    \n",
    "    #Plotting the final solution\n",
    "    plt.plot(r_solve, c_s, label = \"Speed of sound\")\n",
    "    plt.plot(r_solve, v_r, label = \"Speed of gas\")\n",
    "    plt.grid()\n",
    "    plt.xlabel(\"The distance from center of black hole (in r0 units)\")\n",
    "    plt.ylabel(\"Speed of sound/gas (assuming speed of light, c = 1)\")\n",
    "    plt.title(\"Plot of v_r and c_s vs r for \" + str)\n",
    "    plt.legend()\n",
    "    plt.show()\n",
    "\n",
    "    #Plotting the ratio of v_r and c_s\n",
    "    plt.plot(r_solve, v_r/c_s)\n",
    "    plt.grid()\n",
    "    plt.xlabel(\"The distance from center of black hole (in r0 units)\")\n",
    "    plt.ylabel(\"Ratio of speed of gas to speed of sound\")\n",
    "    plt.title(\"Plot of v_r/c_s as a function of r in case of \" + str)\n",
    "    plt.show()\n",
    "\n",
    "    #Plotting the Pressure\n",
    "    plt.plot(r_solve, P_sol)\n",
    "    plt.grid()\n",
    "    plt.xlabel(\"The distance from center of black hole (in r0 units)\")\n",
    "    plt.ylabel(\"Pressure of the gas\")\n",
    "    plt.title(\"Plot of Pressure as a function of r in case of \" + str)\n",
    "    plt.show()\n",
    "\n",
    "    #Plotting the density\n",
    "    plt.plot(r_solve, rho)\n",
    "    plt.grid()\n",
    "    plt.xlabel(\"The distance from center of black hole (in r0 units)\")\n",
    "    plt.ylabel(\"Density of the gas\")\n",
    "    plt.title(\"Plot of Density as a function of r in case of \" + str)\n",
    "    plt.show()\n",
    "\n",
    "    #Plotting the angular momentum\n",
    "    plt.plot(r_solve, L_sol)\n",
    "    plt.grid()\n",
    "    plt.xlabel(\"The distance from center of black hole (in r0 units)\")\n",
    "    plt.ylabel(\"Angular momentum of the gas\")\n",
    "    plt.title(\"Plot of Angular momentum as a function of r in case of \" + str)\n",
    "    plt.show()\n",
    "\n",
    "    final_solution = [v_r, P_sol, rho, L_sol]\n",
    "    print(f\"The critical radius is: {r_crit}\")   \n",
    "    print(f\"The critical velocity derivative above is: {dvdr_critical_up}\") \n",
    "    print(f\"The critical velocity derivative below is: {dvdr_critical_down}\") \n",
    "    print(solution[5][0])\n",
    "    \n",
    "    return final_solution, r_solve\n"
   ]
  },
  {
   "cell_type": "code",
   "execution_count": null,
   "metadata": {},
   "outputs": [
    {
     "name": "stderr",
     "output_type": "stream",
     "text": [
      "c:\\Users\\mythi\\AppData\\Local\\Programs\\Python\\Python39\\lib\\site-packages\\scipy\\integrate\\odepack.py:247: ODEintWarning: Excess work done on this call (perhaps wrong Dfun type). Run with full_output = 1 to get quantitative information.\n",
      "  warnings.warn(warning_msg, ODEintWarning)\n",
      "C:\\Users\\mythi\\AppData\\Local\\Temp\\ipykernel_21892\\2110498789.py:35: RuntimeWarning: divide by zero encountered in true_divide\n",
      "  c_s = np.sqrt(G * P_sol / rho)\n",
      "C:\\Users\\mythi\\AppData\\Local\\Temp\\ipykernel_21892\\2110498789.py:35: RuntimeWarning: invalid value encountered in true_divide\n",
      "  c_s = np.sqrt(G * P_sol / rho)\n"
     ]
    },
    {
     "data": {
      "image/png": "[encoded data removed]",
      "text/plain": [
       "<Figure size 432x288 with 1 Axes>"
      ]
     },
     "metadata": {
      "needs_background": "light"
     },
     "output_type": "display_data"
    },
    {
     "name": "stderr",
     "output_type": "stream",
     "text": [
      "C:\\Users\\mythi\\AppData\\Local\\Temp\\ipykernel_21892\\2110498789.py:48: RuntimeWarning: invalid value encountered in true_divide\n",
      "  plt.plot(r_solve, v_r/c_s)\n"
     ]
    },
    {
     "data": {
      "image/png": "[encoded data removed]",
      "text/plain": [
       "<Figure size 432x288 with 1 Axes>"
      ]
     },
     "metadata": {
      "needs_background": "light"
     },
     "output_type": "display_data"
    },
    {
     "data": {
      "image/png": "[encoded data removed]",
      "text/plain": [
       "<Figure size 432x288 with 1 Axes>"
      ]
     },
     "metadata": {
      "needs_background": "light"
     },
     "output_type": "display_data"
    },
    {
     "data": {
      "image/png": "[encoded data removed]",
      "text/plain": [
       "<Figure size 432x288 with 1 Axes>"
      ]
     },
     "metadata": {
      "needs_background": "light"
     },
     "output_type": "display_data"
    },
    {
     "data": {
      "image/png": "[encoded data removed]",
      "text/plain": [
       "<Figure size 432x288 with 1 Axes>"
      ]
     },
     "metadata": {
      "needs_background": "light"
     },
     "output_type": "display_data"
    },
    {
     "name": "stdout",
     "output_type": "stream",
     "text": [
      "The critical radius is: 4.266881033106736\n",
      "The critical velocity derivative above is: 0.39522668087446905\n",
      "The critical velocity derivative below is: -0.36301076746145466\n",
      "1.1117927906264e-311\n"
     ]
    },
    {
     "data": {
      "text/plain": [
       "([array([2.81315816e-001, 2.81263319e-001, 1.11179283e-311, ...,\n",
       "         0.00000000e+000, 0.00000000e+000, 0.00000000e+000]),\n",
       "  array([1.66528254e+000, 1.66559468e+000, 1.11179255e-311, ...,\n",
       "         0.00000000e+000, 0.00000000e+000, 0.00000000e+000]),\n",
       "  array([2.45634947e+001, 2.45634816e+001, 1.11179295e-311, ...,\n",
       "         0.00000000e+000, 0.00000000e+000, 0.00000000e+000]),\n",
       "  array([3.20000000e+000, 3.20004536e+000, 1.11179266e-311, ...,\n",
       "         0.00000000e+000, 0.00000000e+000, 0.00000000e+000])],\n",
       " array([ 4.26688103,  4.27688103,  4.28688103, ..., 14.97688103,\n",
       "        14.98688103, 14.99688103]))"
      ]
     },
     "execution_count": 45,
     "metadata": {},
     "output_type": "execute_result"
    }
   ],
   "source": [
    "Solve_Ode_above(3.2, 0, -1)"
   ]
  },
  {
   "cell_type": "code",
   "execution_count": null,
   "metadata": {},
   "outputs": [],
   "source": [
    "v = 2.81263319e-001\n",
    "P = 1.66559468e+000\n",
    "rho = 2.45634816e+001\n",
    "L = 3.20004536e+000\n",
    "Lc = 3.2\n",
    "r = r_crit - 0.005\n",
    "h = 0.005"
   ]
  },
  {
   "cell_type": "code",
   "execution_count": null,
   "metadata": {},
   "outputs": [],
   "source": [
    "Br = np.sqrt(4*np.pi*abs(P)/30) * r_crit/r\n",
    "Bphi = (np.sqrt(4*np.pi*abs(P)/30)*v_crit - np.sqrt(4*np.pi*abs(P)/30)*Lc/r_crit + Br*L/r) / v"
   ]
  },
  {
   "cell_type": "code",
   "execution_count": null,
   "metadata": {},
   "outputs": [
    {
     "data": {
      "text/plain": [
       "[0.3911286895393639, -2.578552038556836e-08]"
      ]
     },
     "execution_count": 46,
     "metadata": {},
     "output_type": "execute_result"
    }
   ],
   "source": [
    "dvdr([r, v, P, rho, L, Br, Bphi, 0])"
   ]
  },
  {
   "cell_type": "code",
   "execution_count": null,
   "metadata": {},
   "outputs": [],
   "source": [
    "from Derivative_Equations import *"
   ]
  },
  {
   "cell_type": "code",
   "execution_count": null,
   "metadata": {},
   "outputs": [
    {
     "data": {
      "text/plain": [
       "[35.746067177975604, 3.3823329914639544e-08]"
      ]
     },
     "execution_count": 40,
     "metadata": {},
     "output_type": "execute_result"
    }
   ],
   "source": [
    "drhodr([r_crit + h, v, P, rho, L, Br, Bphi, 0])"
   ]
  }
 ],
 "metadata": {
  "kernelspec": {
   "display_name": "Python 3.9.7 64-bit",
   "language": "python",
   "name": "python3"
  },
  "language_info": {
   "codemirror_mode": {
    "name": "ipython",
    "version": 3
   },
   "file_extension": ".py",
   "mimetype": "text/x-python",
   "name": "python",
   "nbconvert_exporter": "python",
   "pygments_lexer": "ipython3",
   "version": "3.9.7"
  },
  "orig_nbformat": 4,
  "vscode": {
   "interpreter": {
    "hash": "0fdb2f0648d71c0b8c5bf2055cf03b1c5e1a84a9ef4c9fee9ec7c780abd498eb"
   }
  }
 },
 "nbformat": 4,
 "nbformat_minor": 2
}
