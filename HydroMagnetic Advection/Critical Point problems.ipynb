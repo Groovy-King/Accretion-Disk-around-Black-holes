{
 "cells": [
  {
   "cell_type": "code",
   "execution_count": 1,
   "metadata": {},
   "outputs": [],
   "source": [
    "import numpy as np\n",
    "import matplotlib.pyplot as plt\n",
    "import scipy as sp\n",
    "import sympy as smp\n",
    "\n",
    "from scipy.optimize import fsolve, leastsq, root\n",
    "from scipy.integrate import odeint, solve_ivp\n",
    "from Derivative_Equations import dvdr, dPdr, drhodr, dLdr\n",
    "from Solving_ODE import Solve_ODE, derivatives, Crit_derivatives"
   ]
  },
  {
   "cell_type": "code",
   "execution_count": 2,
   "metadata": {},
   "outputs": [],
   "source": [
    "h = 0.01\n",
    "G = 1.33\n",
    "aa = 0\n",
    "#B_Max = 10**-50"
   ]
  },
  {
   "cell_type": "code",
   "execution_count": 15,
   "metadata": {},
   "outputs": [],
   "source": [
    "def Crit(S, a):\n",
    "    r, v, rho, Pressure, L = S\n",
    "    Br = np.sqrt(4*np.pi*abs(Pressure)/300)\n",
    "    #Br = B_Max\n",
    "    Bphi = Br\n",
    "    eq1, temp = dvdr([r, v, Pressure, rho, L, Br, Bphi, a])\n",
    "    eq2, den = dPdr([r, v, Pressure, rho, L, Br, Bphi, a])\n",
    "    eq3, temp = drhodr([r, v, Pressure, rho, L, Br, Bphi, a])\n",
    "    eq4, temp = dLdr([r, v, Pressure, rho, L, Br, Bphi, a])\n",
    "    # Use this when using fsolve\n",
    "    # return [eq1, eq2, eq3, den]\n",
    "    \n",
    "    # Use this when using leastsq\n",
    "    return [eq1, eq2, eq3, eq4, den]\n",
    "\n",
    "r_ini_guess = 6\n",
    "v_ini_guess = 0.3\n",
    "rho_ini_guess = 10**-20\n",
    "P_ini_guess = 10**-22\n",
    "L_ini_guess = 3.2\n",
    "\n",
    "ini_guess = np.array([r_ini_guess, v_ini_guess, rho_ini_guess, P_ini_guess, L_ini_guess])"
   ]
  },
  {
   "cell_type": "code",
   "execution_count": 16,
   "metadata": {},
   "outputs": [
    {
     "name": "stdout",
     "output_type": "stream",
     "text": [
      "r_crit = 76.25377093027898\n",
      "v_crit = 0.07976246988391444\n",
      "P_crit = 5.2731471662979455e-23\n",
      "rho_crit = 9.669935313133717e-21\n",
      "L_crit = 0.14989067696156314\n",
      "num1 = 0.0008735460465523193, den1 = 2.2516409316739502e-05\n",
      "num2 = -6.744953611169624e-25, den2 = 2.2516409316608588e-05\n",
      "num3 = -8.979887488317372e-23, den3 = 2.2516409316529742e-05\n",
      "num4 = 1.4345192706750796e-05, den4 = 2.2516409316642113e-05\n",
      "B_r = 1.486206822706246e-12\n"
     ]
    }
   ],
   "source": [
    "r_crit, v_crit, rho_crit, P_crit, L_crit = fsolve(Crit, ini_guess, args=(aa), maxfev = 20000)\n",
    "print(f\"r_crit = {r_crit}\")\n",
    "print(f\"v_crit = {v_crit}\")\n",
    "print(f\"P_crit = {P_crit}\")\n",
    "print(f\"rho_crit = {rho_crit}\")\n",
    "print(f\"L_crit = {L_crit}\")\n",
    "\n",
    "Br_crit = np.sqrt(4*np.pi*abs(P_crit)/300)\n",
    "#Br_crit = B_Max\n",
    "Bphi_crit = Br_crit\n",
    "\n",
    "S = [r_crit, v_crit, P_crit, rho_crit, L_crit, Br_crit, Bphi_crit, aa]\n",
    "num1, den1 = dvdr(S)\n",
    "num2, den2 = dPdr(S)\n",
    "num3, den3 = drhodr(S)\n",
    "num4, den4 = dLdr(S)\n",
    "\n",
    "print(f\"num1 = {num1}, den1 = {den1}\")\n",
    "print(f\"num2 = {num2}, den2 = {den2}\")\n",
    "print(f\"num3 = {num3}, den3 = {den3}\")\n",
    "print(f\"num4 = {num4}, den4 = {den4}\")\n",
    "print(f\"B_r = {Br_crit}\")"
   ]
  },
  {
   "cell_type": "code",
   "execution_count": 5,
   "metadata": {},
   "outputs": [],
   "source": [
    "def crit_der_down(S, L, a):\n",
    "    dvdr_crit, dPdr_crit, drhodr_crit, dLdr_crit = S\n",
    "    r = r_crit - h\n",
    "    v = v_crit - h*dvdr_crit\n",
    "    Pressure = P_crit - h*dPdr_crit\n",
    "    rho = rho_crit - h*drhodr_crit\n",
    "    L_calc = L_crit + h*dLdr_crit     \n",
    "    Br = np.sqrt(4*np.pi*abs(Pressure)/300)\n",
    "    #Br = B_Max\n",
    "    Bphi = Br\n",
    "    eq1 = dvdr([r, v, Pressure, rho, L_calc, Br, Bphi, a])[0]/dvdr([r, v, Pressure, rho, L_calc, Br, Bphi, a])[1] - dvdr_crit\n",
    "    eq2 = dPdr([r, v, Pressure, rho, L_calc, Br, Bphi, a])[0]/dPdr([r, v, Pressure, rho, L_calc, Br, Bphi, a])[1] - dPdr_crit\n",
    "    eq3 = drhodr([r, v, Pressure, rho, L_calc, Br, Bphi, a])[0]/drhodr([r, v, Pressure, rho, L_calc, Br, Bphi, a])[1] - drhodr_crit\n",
    "    eq4 = dLdr([r, v, Pressure, rho, L_calc, Br, Bphi, a])[0]/dLdr([r, v, Pressure, rho, L_calc, Br, Bphi, a])[1] - dLdr_crit\n",
    "    return [eq1, eq2, eq3, eq4]\n",
    "\n",
    "\n",
    "def crit_der_up(S, L, a):\n",
    "    dvdr_crit, dPdr_crit, drhodr_crit, dLdr_crit = S\n",
    "    r = r_crit + h\n",
    "    v = v_crit + h*dvdr_crit\n",
    "    Pressure = P_crit + h*dPdr_crit\n",
    "    rho = rho_crit + h*drhodr_crit\n",
    "    L_calc = L + h*dLdr_crit \n",
    "    Br = np.sqrt(4*np.pi*abs(Pressure)/300)\n",
    "    #Br = B_Max\n",
    "    Bphi = Br\n",
    "    eq1 = dvdr([r, v, Pressure, rho, L_calc, Br, Bphi, a])[0]/dvdr([r, v, Pressure, rho, L_calc, Br, Bphi, a])[1] - dvdr_crit\n",
    "    eq2 = dPdr([r, v, Pressure, rho, L_calc, Br, Bphi, a])[0]/dPdr([r, v, Pressure, rho, L_calc, Br, Bphi, a])[1] - dPdr_crit\n",
    "    eq3 = drhodr([r, v, Pressure, rho, L_calc, Br, Bphi, a])[0]/drhodr([r, v, Pressure, rho, L_calc, Br, Bphi, a])[1] - drhodr_crit\n",
    "    eq4 = dLdr([r, v, Pressure, rho, L_calc, Br, Bphi, a])[0]/dLdr([r, v, Pressure, rho, L_calc, Br, Bphi, a])[1] - dLdr_crit\n",
    "    return [eq1, eq2, eq3, eq4]"
   ]
  },
  {
   "cell_type": "code",
   "execution_count": 6,
   "metadata": {},
   "outputs": [],
   "source": [
    "dvdr_ini_guess = -0.4\n",
    "dPdr_ini_guess = -10\n",
    "drhodr_ini_guess = -25\n",
    "dLdr_ini_guess = 0.01\n",
    "\n",
    "crit_der_ini_guess = [dvdr_ini_guess, dPdr_ini_guess, drhodr_ini_guess, dLdr_ini_guess]"
   ]
  },
  {
   "cell_type": "code",
   "execution_count": 7,
   "metadata": {},
   "outputs": [
    {
     "name": "stdout",
     "output_type": "stream",
     "text": [
      "v_crit_up = 0.0006078629572977064\n",
      "P_crit_up = -5.304061244744573e-14\n",
      "rho_crit_up = -8.885468936606225e-14\n",
      "L_crit_up = -1.3859516019452731e-06\n"
     ]
    },
    {
     "name": "stderr",
     "output_type": "stream",
     "text": [
      "c:\\Users\\mythi\\AppData\\Local\\Programs\\Python\\Python39\\lib\\site-packages\\scipy\\optimize\\minpack.py:175: RuntimeWarning: The number of calls to function has reached maxfev = 2000.\n",
      "  warnings.warn(msg, RuntimeWarning)\n"
     ]
    },
    {
     "data": {
      "text/plain": [
       "[4.063047641389428e-15,\n",
       " 5.3040474908445406e-14,\n",
       " 8.88545294668131e-14,\n",
       " -9.310374397982456e-18]"
      ]
     },
     "execution_count": 7,
     "metadata": {},
     "output_type": "execute_result"
    }
   ],
   "source": [
    "v_crit_up, P_crit_up, rho_crit_up, L_crit_up = fsolve(crit_der_up, crit_der_ini_guess, args = (L_ini_guess, aa), maxfev = 2000)\n",
    "print(f\"v_crit_up = {v_crit_up}\")\n",
    "print(f\"P_crit_up = {P_crit_up}\")\n",
    "print(f\"rho_crit_up = {rho_crit_up}\")\n",
    "print(f\"L_crit_up = {L_crit_up}\")\n",
    "crit_der_up([v_crit_up, P_crit_up, rho_crit_up, L_crit_up], L_ini_guess, aa)"
   ]
  },
  {
   "cell_type": "code",
   "execution_count": 8,
   "metadata": {},
   "outputs": [
    {
     "name": "stdout",
     "output_type": "stream",
     "text": [
      "v_crit_down = 0.0006182663022127283\n",
      "P_crit_down = -3.5072184091845284e-12\n",
      "rho_crit_down = -6.345761283333282e-12\n",
      "L_crit_down = 2.9798380144172623e-06\n"
     ]
    },
    {
     "name": "stderr",
     "output_type": "stream",
     "text": [
      "c:\\Users\\mythi\\AppData\\Local\\Programs\\Python\\Python39\\lib\\site-packages\\scipy\\optimize\\minpack.py:175: RuntimeWarning: The iteration is not making good progress, as measured by the \n",
      "  improvement from the last ten iterations.\n",
      "  warnings.warn(msg, RuntimeWarning)\n"
     ]
    },
    {
     "data": {
      "text/plain": [
       "[3.616283911466833e-06,\n",
       " 3.507229792563821e-12,\n",
       " 6.3457763303506565e-12,\n",
       " -1.5827164605036465e-06]"
      ]
     },
     "execution_count": 8,
     "metadata": {},
     "output_type": "execute_result"
    }
   ],
   "source": [
    "v_crit_down, P_crit_down, rho_crit_down, L_crit_down = fsolve(crit_der_down, crit_der_ini_guess, args = (L_ini_guess, aa))\n",
    "print(f\"v_crit_down = {v_crit_down}\")\n",
    "print(f\"P_crit_down = {P_crit_down}\")\n",
    "print(f\"rho_crit_down = {rho_crit_down}\")\n",
    "print(f\"L_crit_down = {L_crit_down}\")\n",
    "crit_der_down([v_crit_down, P_crit_down, rho_crit_down, L_crit_down], L_ini_guess, aa)"
   ]
  },
  {
   "cell_type": "code",
   "execution_count": 9,
   "metadata": {},
   "outputs": [],
   "source": [
    "def Solve_Ode_above(a, ini_guess):  \n",
    "    # Setting up the critical values above and below rc\n",
    "    S_up, S_down = Crit_derivatives(a, ini_guess)\n",
    "    r_crit, v_crit, P_crit, rho_crit, dvdr_critical_up, dPdr_critical_up, drhodr_critical_up, dLdr_critical_up = S_up\n",
    "    Crits_up = np.array([r_crit, v_crit, dvdr_critical_up, dPdr_critical_up, drhodr_critical_up, dLdr_critical_up])\n",
    "    \n",
    "    r_crit, v_crit, P_crit, rho_crit, dvdr_critical_down, dPdr_critical_down, drhodr_critical_down, dLdr_critical_down = S_down\n",
    "    Crits_down = np.array([r_crit, v_crit, dvdr_critical_down, dPdr_critical_down, drhodr_critical_down, dLdr_critical_down])\n",
    "    \n",
    "    Crit_vals = Crits_up\n",
    "    # Crit_vals = (Crits_down + Crits_up) / 2\n",
    "    # Crit_vals = Crits_down\n",
    "    \n",
    "    #Solving the ODE below rc\n",
    "    r_solve_below = np.arange(r_crit, 2.05, -0.001) \n",
    "    solution_below = odeint(derivatives, y0 = np.array([v_crit, P_crit, rho_crit, L_crit]), t = r_solve_below, tfirst = True, args = (L_crit, a, Crit_vals, B_Max))\n",
    "    \n",
    "    # Solving the ODE above rc\n",
    "    r_solve_above = np.arange(r_crit, 8, 0.001) \n",
    "    solution_above = odeint(derivatives, y0 = np.array([v_crit, P_crit, rho_crit, L_crit]), t = r_solve_above, tfirst = True, args = (L_crit, a, Crit_vals, B_Max))\n",
    "    \n",
    "    #Reversing the np arrays for the solution below rc\n",
    "    r_solve_below = np.flipud(r_solve_below)\n",
    "    solution_below = np.flipud(solution_below) \n",
    "    \n",
    "    #Combining the arrays for the solution\n",
    "    r_solve = np.concatenate((r_solve_below, r_solve_above))\n",
    "    solution = np.concatenate((solution_below, solution_above))\n",
    " \n",
    "    v_r = np.array([])\n",
    "    P_sol = np.array([])\n",
    "    rho = np.array([])\n",
    "    L_sol = np.array([])\n",
    "    for i in range(len(r_solve)):\n",
    "        v_r = np.concatenate((v_r, np.array([solution[i][0]])))\n",
    "        P_sol = np.concatenate((P_sol, np.array([solution[i][1]])))\n",
    "        rho = np.concatenate((rho, np.array([solution[i][2]])))\n",
    "        L_sol = np.concatenate((L_sol, np.array([solution[i][3]])))\n",
    "        \n",
    "    #For Accretion\n",
    "    if dvdr_critical_down < 0:\n",
    "        str = \"Accretion\"\n",
    "        \n",
    "    else:\n",
    "        str = \"Wind\"\n",
    "    \n",
    "    c_s = np.sqrt(G * abs(P_sol) / rho)\n",
    "    \n",
    "    #Plotting the final solution\n",
    "    plt.plot(r_solve, c_s, label = \"Speed of sound\")\n",
    "    plt.plot(r_solve, v_r, label = \"Speed of gas\")\n",
    "    plt.grid()\n",
    "    plt.xlabel(\"The distance from center of black hole (in r0 units)\")\n",
    "    plt.ylabel(\"Speed of sound/gas (assuming speed of light, c = 1)\")\n",
    "    plt.title(\"Plot of v_r and c_s vs r for \" + str)\n",
    "    plt.legend()\n",
    "    plt.show()\n",
    "\n",
    "    #Plotting the ratio of v_r and c_s\n",
    "    plt.plot(r_solve, v_r/c_s)\n",
    "    plt.grid()\n",
    "    plt.xlabel(\"The distance from center of black hole (in r0 units)\")\n",
    "    plt.ylabel(\"Ratio of speed of gas to speed of sound\")\n",
    "    plt.title(\"Plot of v_r/c_s as a function of r in case of \" + str)\n",
    "    plt.show()\n",
    "\n",
    "    #Plotting the Pressure\n",
    "    plt.plot(r_solve, P_sol)\n",
    "    plt.grid()\n",
    "    plt.xlabel(\"The distance from center of black hole (in r0 units)\")\n",
    "    plt.ylabel(\"Pressure of the gas\")\n",
    "    plt.title(\"Plot of Pressure as a function of r in case of \" + str)\n",
    "    plt.show()\n",
    "\n",
    "    #Plotting the density\n",
    "    plt.plot(r_solve, rho)\n",
    "    plt.grid()\n",
    "    plt.xlabel(\"The distance from center of black hole (in r0 units)\")\n",
    "    plt.ylabel(\"Density of the gas\")\n",
    "    plt.title(\"Plot of Density as a function of r in case of \" + str)\n",
    "    plt.show()\n",
    "\n",
    "    #Plotting the angular momentum\n",
    "    plt.plot(r_solve, L_sol)\n",
    "    plt.grid()\n",
    "    plt.xlabel(\"The distance from center of black hole (in r0 units)\")\n",
    "    plt.ylabel(\"Angular momentum of the gas\")\n",
    "    plt.title(\"Plot of Angular momentum as a function of r in case of \" + str)\n",
    "    plt.show()\n",
    "\n",
    "    final_solution = [v_r, P_sol, rho, L_sol]\n",
    "    print(f\"The critical radius is: {r_crit}\")   \n",
    "    print(f\"The critical velocity derivative above is: {dvdr_critical_up}\") \n",
    "    print(f\"The critical velocity derivative below is: {dvdr_critical_down}\") \n",
    "    print(solution[5][0])\n",
    "    \n",
    "    return final_solution, r_solve\n"
   ]
  },
  {
   "cell_type": "code",
   "execution_count": 10,
   "metadata": {},
   "outputs": [
    {
     "name": "stdout",
     "output_type": "stream",
     "text": [
      "r_crit = 4.793221019840798\n",
      "v_crit = 0.34653537805762\n",
      "P_crit = 1.5549206095444343e-22\n",
      "rho_crit = 1.5106360767074732e-21\n",
      "L_crit = 2.289484626837431\n",
      "num1 = -0.0009915014811023894, den1 = 8.982404574124733e-13\n",
      "num2 = 4.865999700422941e-25, den2 = 8.983924715266767e-13\n",
      "num3 = -2.251145419296683e-25, den3 = 8.983676123633012e-13\n",
      "num4 = 0.0009915013651814217, den4 = 8.982377034675785e-13\n",
      "Plugging in the derivatives above rc: [-7.271823193627514e-05, 6.47795236772767e-05, 0.00011525888840889383, -4.977016491864437e-05]\n",
      "Plugging in the derivatives below rc: [-0.0017316927040773589, 6.477952319847567e-05, 0.00011525889154229885, -0.0010612819835155024]\n"
     ]
    },
    {
     "ename": "NameError",
     "evalue": "name 'B_Max' is not defined",
     "output_type": "error",
     "traceback": [
      "\u001b[1;31m---------------------------------------------------------------------------\u001b[0m",
      "\u001b[1;31mNameError\u001b[0m                                 Traceback (most recent call last)",
      "\u001b[1;32mc:\\Users\\mythi\\Dropbox\\College Stuff2\\Projects\\Computational Astrophysics\\Python codes\\HydroMagnetic Advection\\Critical Point problems.ipynb Cell 10\u001b[0m in \u001b[0;36m<cell line: 1>\u001b[1;34m()\u001b[0m\n\u001b[1;32m----> <a href='vscode-notebook-cell:/c%3A/Users/mythi/Dropbox/College%20Stuff2/Projects/Computational%20Astrophysics/Python%20codes/HydroMagnetic%20Advection/Critical%20Point%20problems.ipynb#X12sZmlsZQ%3D%3D?line=0'>1</a>\u001b[0m Solve_Ode_above(aa, ini_guess)\n",
      "\u001b[1;32mc:\\Users\\mythi\\Dropbox\\College Stuff2\\Projects\\Computational Astrophysics\\Python codes\\HydroMagnetic Advection\\Critical Point problems.ipynb Cell 10\u001b[0m in \u001b[0;36mSolve_Ode_above\u001b[1;34m(a, ini_guess)\u001b[0m\n\u001b[0;32m     <a href='vscode-notebook-cell:/c%3A/Users/mythi/Dropbox/College%20Stuff2/Projects/Computational%20Astrophysics/Python%20codes/HydroMagnetic%20Advection/Critical%20Point%20problems.ipynb#X12sZmlsZQ%3D%3D?line=10'>11</a>\u001b[0m \u001b[39m# Crit_vals = (Crits_down + Crits_up) / 2\u001b[39;00m\n\u001b[0;32m     <a href='vscode-notebook-cell:/c%3A/Users/mythi/Dropbox/College%20Stuff2/Projects/Computational%20Astrophysics/Python%20codes/HydroMagnetic%20Advection/Critical%20Point%20problems.ipynb#X12sZmlsZQ%3D%3D?line=11'>12</a>\u001b[0m \u001b[39m# Crit_vals = Crits_down\u001b[39;00m\n\u001b[0;32m     <a href='vscode-notebook-cell:/c%3A/Users/mythi/Dropbox/College%20Stuff2/Projects/Computational%20Astrophysics/Python%20codes/HydroMagnetic%20Advection/Critical%20Point%20problems.ipynb#X12sZmlsZQ%3D%3D?line=12'>13</a>\u001b[0m \n\u001b[0;32m     <a href='vscode-notebook-cell:/c%3A/Users/mythi/Dropbox/College%20Stuff2/Projects/Computational%20Astrophysics/Python%20codes/HydroMagnetic%20Advection/Critical%20Point%20problems.ipynb#X12sZmlsZQ%3D%3D?line=13'>14</a>\u001b[0m \u001b[39m#Solving the ODE below rc\u001b[39;00m\n\u001b[0;32m     <a href='vscode-notebook-cell:/c%3A/Users/mythi/Dropbox/College%20Stuff2/Projects/Computational%20Astrophysics/Python%20codes/HydroMagnetic%20Advection/Critical%20Point%20problems.ipynb#X12sZmlsZQ%3D%3D?line=14'>15</a>\u001b[0m r_solve_below \u001b[39m=\u001b[39m np\u001b[39m.\u001b[39marange(r_crit, \u001b[39m2.05\u001b[39m, \u001b[39m-\u001b[39m\u001b[39m0.001\u001b[39m) \n\u001b[1;32m---> <a href='vscode-notebook-cell:/c%3A/Users/mythi/Dropbox/College%20Stuff2/Projects/Computational%20Astrophysics/Python%20codes/HydroMagnetic%20Advection/Critical%20Point%20problems.ipynb#X12sZmlsZQ%3D%3D?line=15'>16</a>\u001b[0m solution_below \u001b[39m=\u001b[39m odeint(derivatives, y0 \u001b[39m=\u001b[39m np\u001b[39m.\u001b[39marray([v_crit, P_crit, rho_crit, L_crit]), t \u001b[39m=\u001b[39m r_solve_below, tfirst \u001b[39m=\u001b[39m \u001b[39mTrue\u001b[39;00m, args \u001b[39m=\u001b[39m (L_crit, a, Crit_vals, B_Max))\n\u001b[0;32m     <a href='vscode-notebook-cell:/c%3A/Users/mythi/Dropbox/College%20Stuff2/Projects/Computational%20Astrophysics/Python%20codes/HydroMagnetic%20Advection/Critical%20Point%20problems.ipynb#X12sZmlsZQ%3D%3D?line=17'>18</a>\u001b[0m \u001b[39m# Solving the ODE above rc\u001b[39;00m\n\u001b[0;32m     <a href='vscode-notebook-cell:/c%3A/Users/mythi/Dropbox/College%20Stuff2/Projects/Computational%20Astrophysics/Python%20codes/HydroMagnetic%20Advection/Critical%20Point%20problems.ipynb#X12sZmlsZQ%3D%3D?line=18'>19</a>\u001b[0m r_solve_above \u001b[39m=\u001b[39m np\u001b[39m.\u001b[39marange(r_crit, \u001b[39m8\u001b[39m, \u001b[39m0.001\u001b[39m) \n",
      "\u001b[1;31mNameError\u001b[0m: name 'B_Max' is not defined"
     ]
    }
   ],
   "source": [
    "Solve_Ode_above(aa, ini_guess)"
   ]
  }
 ],
 "metadata": {
  "kernelspec": {
   "display_name": "Python 3.9.7 64-bit",
   "language": "python",
   "name": "python3"
  },
  "language_info": {
   "codemirror_mode": {
    "name": "ipython",
    "version": 3
   },
   "file_extension": ".py",
   "mimetype": "text/x-python",
   "name": "python",
   "nbconvert_exporter": "python",
   "pygments_lexer": "ipython3",
   "version": "3.9.7"
  },
  "orig_nbformat": 4,
  "vscode": {
   "interpreter": {
    "hash": "0fdb2f0648d71c0b8c5bf2055cf03b1c5e1a84a9ef4c9fee9ec7c780abd498eb"
   }
  }
 },
 "nbformat": 4,
 "nbformat_minor": 2
}
