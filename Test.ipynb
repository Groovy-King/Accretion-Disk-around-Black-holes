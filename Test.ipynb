{
 "cells": [
  {
   "cell_type": "code",
   "execution_count": 1,
   "metadata": {},
   "outputs": [],
   "source": [
    "from cProfile import label\n",
    "import numpy as np\n",
    "import matplotlib.pyplot as plt\n",
    "import scipy as sp\n",
    "import sympy as smp\n",
    "\n",
    "from scipy.optimize import fsolve, root\n",
    "from scipy.integrate import odeint\n",
    "from scipy.integrate import solve_ivp\n",
    "from scipy.integrate import quad\n",
    "from mpl_toolkits import mplot3d\n",
    "from sympy import *"
   ]
  },
  {
   "cell_type": "code",
   "execution_count": null,
   "metadata": {},
   "outputs": [],
   "source": [
    "r0 = 1\n",
    "alpha = 1\n",
    "Gamma = 1.5\n",
    "E = 0.1"
   ]
  },
  {
   "cell_type": "code",
   "execution_count": null,
   "metadata": {},
   "outputs": [],
   "source": [
    "rc = fsolve(lambda rc: (2/(Gamma - 1) + 1/2) * rc / (4 * (rc - 1)**2) - rc / (2 * (rc - 1)) - E, 1.2)\n",
    "rc"
   ]
  },
  {
   "cell_type": "code",
   "execution_count": null,
   "metadata": {},
   "outputs": [],
   "source": [
    "def x_eq(x, y):\n",
    "    out = x - (gamma - 1)/2 * (y/rc - 2/rc**2 + 1/(rc - 1)**3) / (2*x - 2*y)\n",
    "    return out\n",
    "\n",
    "def y_eq(x, y):\n",
    "    out = y + (x/rc - 2/rc**2 + 1/(rc - 1)**3) / (2*x - 2*y)\n",
    "    return out\n",
    "\n",
    "def S_eq(S):\n",
    "    x, y = S\n",
    "    return [x_eq(x, y), y_eq(x, y)]\n"
   ]
  },
  {
   "cell_type": "code",
   "execution_count": null,
   "metadata": {},
   "outputs": [],
   "source": [
    "sol1, sol2 = fsolve(S_eq, [-0.01, -0.8])"
   ]
  },
  {
   "cell_type": "code",
   "execution_count": null,
   "metadata": {},
   "outputs": [],
   "source": [
    "x, y = symbols('x, y')\n",
    "eq1 = x - (Gamma - 1)/2 * (y/rc - 2/rc**2 + 1/(rc - 1)**3) / (2*x - 2*y)\n",
    "eq2 = y + (x/rc - 2/rc**2 + 1/(rc - 1)**3) / (2*x - 2*y)\n",
    "sol = nsolve([eq1, eq2], [-0.01, -0.1])"
   ]
  },
  {
   "cell_type": "code",
   "execution_count": null,
   "metadata": {},
   "outputs": [],
   "source": [
    "x, y = symbols('x, y')\n",
    "eq1 = Eq((Gamma - 1)/2 * (y/rc - 2/rc**2 + 1/(rc - 1)**3) / (2*x - 2*y), x)\n",
    "eq2 = Eq((x/rc - 2/rc**2 + 1/(rc - 1)**3) / (2*x - 2*y), - y )\n",
    "sol = nsolve([eq1, eq2], [x, y], [-0.01, -0.8])"
   ]
  },
  {
   "cell_type": "code",
   "execution_count": null,
   "metadata": {},
   "outputs": [],
   "source": [
    "x = symbols(\"x\")\n",
    "x**2"
   ]
  },
  {
   "cell_type": "code",
   "execution_count": null,
   "metadata": {},
   "outputs": [],
   "source": [
    "def func(x):\n",
    "    return [x[0] * np.cos(x[1]) - 4,\n",
    "            x[1] * x[0] - x[1] - 5]\n",
    "root = fsolve(func, [1, 1])\n",
    "root"
   ]
  },
  {
   "cell_type": "code",
   "execution_count": null,
   "metadata": {},
   "outputs": [],
   "source": [
    "def Solve(S):\n",
    "    x = S[0]\n",
    "    y = S[1]\n",
    "    out1 = x - (Gamma - 1)/2 * (y/rc - 2/rc**2 + 1/(rc - 1)**3) / (2*x - 2*y)\n",
    "    out2 = y + (x/rc - 2/rc**2 + 1/(rc - 1)**3) / (2*x - 2*y)\n",
    "    return [out1, out2]\n",
    "\n",
    "root = fsolve(Solve, [-0.01, -0.8])\n",
    "root\n"
   ]
  },
  {
   "cell_type": "code",
   "execution_count": null,
   "metadata": {},
   "outputs": [],
   "source": [
    "def Crit(rc):\n",
    "    out = (2/(Gamma - 1) + 1/2) * (rc*r0)/(4*(rc - r0)**2) - rc/(2*(rc - r0)) - E\n",
    "    return out"
   ]
  },
  {
   "cell_type": "code",
   "execution_count": null,
   "metadata": {},
   "outputs": [],
   "source": [
    "sol = fsolve(Crit, 1.5)\n",
    "rc = sol\n",
    "rc"
   ]
  },
  {
   "cell_type": "code",
   "execution_count": null,
   "metadata": {},
   "outputs": [],
   "source": [
    "cs_crit = np.sqrt(rc*r0/(4*(rc - r0)**2))\n",
    "vr_crit = cs_crit"
   ]
  },
  {
   "cell_type": "code",
   "execution_count": null,
   "metadata": {},
   "outputs": [],
   "source": [
    "def der(S):\n",
    "    dcdr, dvdr = S\n",
    "    num1 = dcdr - (Gamma - 1)/2 * (4*vr_crit*dvdr/rc - 2*vr_crit**2/rc**2 + r0/(rc - r0)**3)\n",
    "    den1 = dcdr - 2*dvdr + dcdr\n",
    "    out1 = num1/den1\n",
    "    num2 = dvdr - (4*cs_crit*dcdr/rc - 2*cs_crit**2/rc**2 + r0/(rc - r0)**3)\n",
    "    den2 = dvdr - 2*dcdr + dvdr\n",
    "    out2 = num2/den2\n",
    "    return [out1[0], out2[0]]\n",
    "\n",
    "print(der([1, 4]))"
   ]
  },
  {
   "cell_type": "code",
   "execution_count": null,
   "metadata": {},
   "outputs": [],
   "source": [
    "ini_guess = (-0.02, -0.2)\n",
    "der_crit = fsolve(der, ini_guess)\n",
    "der_crit"
   ]
  },
  {
   "cell_type": "code",
   "execution_count": null,
   "metadata": {},
   "outputs": [],
   "source": [
    "r, v, dvdr, c, dcdr, L, F, dFdr, g = symbols('r, v, dvdr, c, dcdr, L, F, dFdr, g')\n",
    "r**(1/2)"
   ]
  },
  {
   "cell_type": "code",
   "execution_count": null,
   "metadata": {},
   "outputs": [],
   "source": [
    "L/F"
   ]
  },
  {
   "cell_type": "code",
   "execution_count": null,
   "metadata": {},
   "outputs": [],
   "source": [
    "solution = solve((r*dvdr/v + (g + 1)*r*dcdr/(c*(g - 1)) + 3/2 - r*dFdr/(2*F), v*dvdr + 2*c*dcdr/(g - 1) - L**2/r**3 + F), (dcdr, dvdr))\n",
    "solution[dcdr]"
   ]
  },
  {
   "cell_type": "code",
   "execution_count": 9,
   "metadata": {},
   "outputs": [],
   "source": [
    "#Defining the variables\n",
    "r, a = smp.symbols('r, a')\n",
    "num = (r**2 - 2*a*smp.sqrt(r) + a**2)**2\n",
    "den = r**3 * (smp.sqrt(r)*(r - 2) + a)**2\n",
    "force_sym = num/den\n",
    "\n",
    "#Creating the force function\n",
    "Force = smp.lambdify((r, a), force_sym)\n",
    "dFdr = lambdify((r, a), diff(force_sym, r))"
   ]
  },
  {
   "cell_type": "code",
   "execution_count": null,
   "metadata": {},
   "outputs": [],
   "source": [
    "Force((2, 3))"
   ]
  },
  {
   "cell_type": "code",
   "execution_count": null,
   "metadata": {},
   "outputs": [],
   "source": [
    "integrate(force_sym, (r, 2, smp.oo))"
   ]
  },
  {
   "cell_type": "code",
   "execution_count": null,
   "metadata": {},
   "outputs": [],
   "source": [
    "dFdr((2, 3))"
   ]
  },
  {
   "cell_type": "code",
   "execution_count": 20,
   "metadata": {},
   "outputs": [],
   "source": [
    "def f(x):\n",
    "    return 1/(1 + x**2)"
   ]
  },
  {
   "cell_type": "code",
   "execution_count": 22,
   "metadata": {},
   "outputs": [
    {
     "data": {
      "text/plain": [
       "(3.141592653589793, 5.155583041103855e-10)"
      ]
     },
     "execution_count": 22,
     "metadata": {},
     "output_type": "execute_result"
    }
   ],
   "source": [
    "quad(f, -np.inf, np.inf)"
   ]
  },
  {
   "cell_type": "code",
   "execution_count": 27,
   "metadata": {},
   "outputs": [
    {
     "data": {
      "text/plain": [
       "(-4.000000000004042, 1.3481761373592902e-08)"
      ]
     },
     "execution_count": 27,
     "metadata": {},
     "output_type": "execute_result"
    }
   ],
   "source": [
    "A = 3\n",
    "quad(dFdr, 1, np.inf, args=(A))"
   ]
  },
  {
   "cell_type": "code",
   "execution_count": 3,
   "metadata": {},
   "outputs": [
    {
     "data": {
      "text/latex": [
       "$\\displaystyle \\frac{\\left(a^{2} - 2 a \\sqrt{r} + r^{2}\\right)^{2}}{r^{3} \\left(a + \\sqrt{r} \\left(r - 2\\right)\\right)^{2}}$"
      ],
      "text/plain": [
       "(a**2 - 2*a*sqrt(r) + r**2)**2/(r**3*(a + sqrt(r)*(r - 2))**2)"
      ]
     },
     "execution_count": 3,
     "metadata": {},
     "output_type": "execute_result"
    }
   ],
   "source": [
    "force_sym"
   ]
  },
  {
   "cell_type": "code",
   "execution_count": 4,
   "metadata": {},
   "outputs": [
    {
     "data": {
      "text/latex": [
       "$\\displaystyle \\frac{\\left(- \\frac{2 a}{\\sqrt{r}} + 4 r\\right) \\left(a^{2} - 2 a \\sqrt{r} + r^{2}\\right)}{r^{3} \\left(a + \\sqrt{r} \\left(r - 2\\right)\\right)^{2}} + \\frac{\\left(- 2 \\sqrt{r} - \\frac{r - 2}{\\sqrt{r}}\\right) \\left(a^{2} - 2 a \\sqrt{r} + r^{2}\\right)^{2}}{r^{3} \\left(a + \\sqrt{r} \\left(r - 2\\right)\\right)^{3}} - \\frac{3 \\left(a^{2} - 2 a \\sqrt{r} + r^{2}\\right)^{2}}{r^{4} \\left(a + \\sqrt{r} \\left(r - 2\\right)\\right)^{2}}$"
      ],
      "text/plain": [
       "(-2*a/sqrt(r) + 4*r)*(a**2 - 2*a*sqrt(r) + r**2)/(r**3*(a + sqrt(r)*(r - 2))**2) + (-2*sqrt(r) - (r - 2)/sqrt(r))*(a**2 - 2*a*sqrt(r) + r**2)**2/(r**3*(a + sqrt(r)*(r - 2))**3) - 3*(a**2 - 2*a*sqrt(r) + r**2)**2/(r**4*(a + sqrt(r)*(r - 2))**2)"
      ]
     },
     "execution_count": 4,
     "metadata": {},
     "output_type": "execute_result"
    }
   ],
   "source": [
    "diff(force_sym, r)"
   ]
  },
  {
   "cell_type": "code",
   "execution_count": 6,
   "metadata": {},
   "outputs": [],
   "source": [
    "#Creating the force function\n",
    "def Force(r, a):\n",
    "    num = (r**2 - 2*a*np.sqrt(r) + a**2)**2\n",
    "    den = r**3 * (np.sqrt(r)*(r - 2)**2 + a)**2\n",
    "    return num/den\n",
    "\n",
    "#Creating the Derivative of force function\n",
    "def dFdr(r, a):\n",
    "    num1 = (r**2 - 2*a*np.sqrt(r) + a**2)*(- 2*a/np.sqrt(r) + 4*r)\n",
    "    den1 = r**3 * (np.sqrt(r)*(r - 2)**2 + a)**2\n",
    "    num2 =  (r**2 - 2*a*np.sqrt(r) + a**2)**2 * (- 2*np.sqrt(r) - (r - 2)/np.sqrt(r))\n",
    "    den2 = r**3 * (np.sqrt(r)*(r - 2)**2 + a)**3\n",
    "    num3 = - 3 * (r**2 - 2*a*np.sqrt(r) + a**2)**2\n",
    "    den3 = r**4 * (np.sqrt(r)*(r - 2)**2 + a)**2\n",
    "    return num1/den1 + num2/den2 + num3/den3\n",
    "\n",
    "#Creating the Potential function\n",
    "def Potential(r, a):\n",
    "    return quad(Force, r, np.inf, args=(a))[0]"
   ]
  },
  {
   "cell_type": "code",
   "execution_count": 34,
   "metadata": {},
   "outputs": [
    {
     "data": {
      "text/plain": [
       "0.12320535017838374"
      ]
     },
     "execution_count": 34,
     "metadata": {},
     "output_type": "execute_result"
    }
   ],
   "source": [
    "Force(1.5, 0.1)\n",
    "dFdr(1.5, 0.1)\n",
    "Potential(3, 0.95)"
   ]
  },
  {
   "cell_type": "code",
   "execution_count": 8,
   "metadata": {},
   "outputs": [],
   "source": [
    "Gamma = 1.5\n",
    "a = 0.95\n",
    "L = 0.1\n",
    "E = 1"
   ]
  },
  {
   "cell_type": "code",
   "execution_count": 16,
   "metadata": {},
   "outputs": [],
   "source": [
    "def Crit(rc):\n",
    "    out = (2*Gamma/(Gamma - 1)) * ((L**2/rc**3 - Force(rc, a)) / (dFdr(rc, a) / Force(rc, a) - 3/rc)) + Potential(rc, a) + L**2/(2*rc**2) - E\n",
    "    return out"
   ]
  },
  {
   "cell_type": "code",
   "execution_count": 30,
   "metadata": {},
   "outputs": [
    {
     "data": {
      "text/plain": [
       "0.0003491784359368477"
      ]
     },
     "execution_count": 30,
     "metadata": {},
     "output_type": "execute_result"
    }
   ],
   "source": [
    "Crit(2.878)"
   ]
  },
  {
   "cell_type": "code",
   "execution_count": 28,
   "metadata": {},
   "outputs": [
    {
     "data": {
      "text/plain": [
       "array([2.87826183])"
      ]
     },
     "execution_count": 28,
     "metadata": {},
     "output_type": "execute_result"
    }
   ],
   "source": [
    "rc = fsolve(Crit, 2.5)\n",
    "rc"
   ]
  },
  {
   "cell_type": "code",
   "execution_count": 2,
   "metadata": {},
   "outputs": [
    {
     "data": {
      "text/latex": [
       "$\\displaystyle 0$"
      ],
      "text/plain": [
       "0"
      ]
     },
     "execution_count": 2,
     "metadata": {},
     "output_type": "execute_result"
    }
   ],
   "source": [
    "v, r = symbols('v, r')\n",
    "diff(v, r)"
   ]
  },
  {
   "cell_type": "code",
   "execution_count": 5,
   "metadata": {},
   "outputs": [
    {
     "data": {
      "text/plain": [
       "array([9.25035823e-09])"
      ]
     },
     "execution_count": 5,
     "metadata": {},
     "output_type": "execute_result"
    }
   ],
   "source": [
    "def test(x, y, z):\n",
    "    return x**2 -2*y + z\n",
    "\n",
    "x = fsolve(test, 1, args=(2, 4))\n",
    "x"
   ]
  },
  {
   "cell_type": "code",
   "execution_count": 10,
   "metadata": {},
   "outputs": [
    {
     "data": {
      "text/latex": [
       "$\\displaystyle \\frac{\\left(\\frac{a}{r^{\\frac{3}{2}}} + 4\\right) \\left(a^{2} - 2 a \\sqrt{r} + r^{2}\\right) + 2 \\left(\\frac{a}{\\sqrt{r}} - 2 r\\right)^{2} + \\frac{4 \\left(2 \\sqrt{r} + \\frac{r - 2}{\\sqrt{r}}\\right) \\left(\\frac{a}{\\sqrt{r}} - 2 r\\right) \\left(a^{2} - 2 a \\sqrt{r} + r^{2}\\right)}{a + \\sqrt{r} \\left(r - 2\\right)} + \\frac{\\left(\\frac{3 \\left(2 \\sqrt{r} + \\frac{r - 2}{\\sqrt{r}}\\right)^{2}}{a + \\sqrt{r} \\left(r - 2\\right)} - \\frac{4 - \\frac{r - 2}{r}}{\\sqrt{r}}\\right) \\left(a^{2} - 2 a \\sqrt{r} + r^{2}\\right)^{2}}{2 \\left(a + \\sqrt{r} \\left(r - 2\\right)\\right)} + \\frac{12 \\left(\\frac{a}{\\sqrt{r}} - 2 r\\right) \\left(a^{2} - 2 a \\sqrt{r} + r^{2}\\right)}{r} + \\frac{6 \\left(2 \\sqrt{r} + \\frac{r - 2}{\\sqrt{r}}\\right) \\left(a^{2} - 2 a \\sqrt{r} + r^{2}\\right)^{2}}{r \\left(a + \\sqrt{r} \\left(r - 2\\right)\\right)} + \\frac{12 \\left(a^{2} - 2 a \\sqrt{r} + r^{2}\\right)^{2}}{r^{2}}}{r^{3} \\left(a + \\sqrt{r} \\left(r - 2\\right)\\right)^{2}}$"
      ],
      "text/plain": [
       "((a/r**(3/2) + 4)*(a**2 - 2*a*sqrt(r) + r**2) + 2*(a/sqrt(r) - 2*r)**2 + 4*(2*sqrt(r) + (r - 2)/sqrt(r))*(a/sqrt(r) - 2*r)*(a**2 - 2*a*sqrt(r) + r**2)/(a + sqrt(r)*(r - 2)) + (3*(2*sqrt(r) + (r - 2)/sqrt(r))**2/(a + sqrt(r)*(r - 2)) - (4 - (r - 2)/r)/sqrt(r))*(a**2 - 2*a*sqrt(r) + r**2)**2/(2*(a + sqrt(r)*(r - 2))) + 12*(a/sqrt(r) - 2*r)*(a**2 - 2*a*sqrt(r) + r**2)/r + 6*(2*sqrt(r) + (r - 2)/sqrt(r))*(a**2 - 2*a*sqrt(r) + r**2)**2/(r*(a + sqrt(r)*(r - 2))) + 12*(a**2 - 2*a*sqrt(r) + r**2)**2/r**2)/(r**3*(a + sqrt(r)*(r - 2))**2)"
      ]
     },
     "execution_count": 10,
     "metadata": {},
     "output_type": "execute_result"
    }
   ],
   "source": [
    "diff(force_sym, r, 2)"
   ]
  },
  {
   "cell_type": "code",
   "execution_count": 14,
   "metadata": {},
   "outputs": [],
   "source": [
    "dFdr2 = lambdify((r, a), diff(force_sym, r, 2) - 3.4865)"
   ]
  },
  {
   "cell_type": "code",
   "execution_count": 15,
   "metadata": {},
   "outputs": [
    {
     "data": {
      "text/plain": [
       "6.5064034453499175e-06"
      ]
     },
     "execution_count": 15,
     "metadata": {},
     "output_type": "execute_result"
    }
   ],
   "source": [
    "dFdr2(2, 0.9)"
   ]
  },
  {
   "cell_type": "code",
   "execution_count": 16,
   "metadata": {},
   "outputs": [
    {
     "data": {
      "text/plain": [
       "array([2.0000005])"
      ]
     },
     "execution_count": 16,
     "metadata": {},
     "output_type": "execute_result"
    }
   ],
   "source": [
    "fsolve(dFdr2, 1.8, args=(0.9))"
   ]
  }
 ],
 "metadata": {
  "interpreter": {
   "hash": "0fdb2f0648d71c0b8c5bf2055cf03b1c5e1a84a9ef4c9fee9ec7c780abd498eb"
  },
  "kernelspec": {
   "display_name": "Python 3.9.7 64-bit",
   "language": "python",
   "name": "python3"
  },
  "language_info": {
   "codemirror_mode": {
    "name": "ipython",
    "version": 3
   },
   "file_extension": ".py",
   "mimetype": "text/x-python",
   "name": "python",
   "nbconvert_exporter": "python",
   "pygments_lexer": "ipython3",
   "version": "3.9.7"
  },
  "orig_nbformat": 4
 },
 "nbformat": 4,
 "nbformat_minor": 2
}
